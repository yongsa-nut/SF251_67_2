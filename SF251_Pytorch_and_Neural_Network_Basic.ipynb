{
  "nbformat": 4,
  "nbformat_minor": 0,
  "metadata": {
    "colab": {
      "provenance": [],
      "authorship_tag": "ABX9TyPdFHW8B77CVRpcm9JG3WoA",
      "include_colab_link": true
    },
    "kernelspec": {
      "name": "python3",
      "display_name": "Python 3"
    },
    "language_info": {
      "name": "python"
    }
  },
  "cells": [
    {
      "cell_type": "markdown",
      "metadata": {
        "id": "view-in-github",
        "colab_type": "text"
      },
      "source": [
        "<a href=\"https://colab.research.google.com/github/yongsa-nut/SF251_67_2/blob/main/SF251_Pytorch_and_Neural_Network_Basic.ipynb\" target=\"_parent\"><img src=\"https://colab.research.google.com/assets/colab-badge.svg\" alt=\"Open In Colab\"/></a>"
      ]
    },
    {
      "cell_type": "code",
      "source": [
        "import torch\n",
        "print(\"Using torch\", torch.__version__)"
      ],
      "metadata": {
        "colab": {
          "base_uri": "https://localhost:8080/"
        },
        "id": "THYJ0ezpZR5w",
        "outputId": "2149ffa8-cfe1-4c08-ffd1-58364b60f1e5"
      },
      "execution_count": 1,
      "outputs": [
        {
          "output_type": "stream",
          "name": "stdout",
          "text": [
            "Using torch 2.6.0+cu124\n"
          ]
        }
      ]
    },
    {
      "cell_type": "markdown",
      "source": [
        "# Tensor"
      ],
      "metadata": {
        "id": "QJA1Jf-uYn6p"
      }
    },
    {
      "cell_type": "markdown",
      "source": [
        "## From Python to PyTorch"
      ],
      "metadata": {
        "id": "0cCBgl1GYtCn"
      }
    },
    {
      "cell_type": "code",
      "execution_count": null,
      "metadata": {
        "colab": {
          "base_uri": "https://localhost:8080/"
        },
        "id": "vWIvU-QCYaR_",
        "outputId": "f53f2894-69ae-41d2-81b5-b7821bb74bd6"
      },
      "outputs": [
        {
          "output_type": "stream",
          "name": "stdout",
          "text": [
            "Python List: [1, 2, 3, 4]\n",
            "NumPy Array: [1 2 3 4]\n",
            "PyTorch Tensor: tensor([1, 2, 3, 4])\n"
          ]
        }
      ],
      "source": [
        "# First, let's import necessary libraries\n",
        "import numpy as np\n",
        "\n",
        "# Python List\n",
        "python_list = [1, 2, 3, 4]\n",
        "print(\"Python List:\", python_list)\n",
        "\n",
        "# NumPy Array\n",
        "numpy_array = np.array([1, 2, 3, 4])\n",
        "print(\"NumPy Array:\", numpy_array)\n",
        "\n",
        "# PyTorch Tensor\n",
        "torch_tensor = torch.tensor([1, 2, 3, 4])\n",
        "print(\"PyTorch Tensor:\", torch_tensor)"
      ]
    },
    {
      "cell_type": "markdown",
      "source": [
        "## Tensor Dimensions Visualization"
      ],
      "metadata": {
        "id": "bXOwTP2wZOsX"
      }
    },
    {
      "cell_type": "code",
      "source": [
        "# 0D Tensor (Scalar)\n",
        "scalar = torch.tensor(5)\n",
        "print(\"0D Tensor (Scalar):\")\n",
        "print(scalar)\n",
        "print(\"Shape:\", scalar.shape)"
      ],
      "metadata": {
        "colab": {
          "base_uri": "https://localhost:8080/"
        },
        "id": "LEh22yOcZwod",
        "outputId": "8797648b-8d8e-4f93-f83a-fd029fc5e8e8"
      },
      "execution_count": null,
      "outputs": [
        {
          "output_type": "stream",
          "name": "stdout",
          "text": [
            "0D Tensor (Scalar):\n",
            "tensor(5)\n",
            "Shape: torch.Size([])\n"
          ]
        }
      ]
    },
    {
      "cell_type": "code",
      "source": [
        "# 1D Tensor (Vector)\n",
        "vector = torch.tensor([1, 2, 3, 4])\n",
        "print(\"1D Tensor (Vector):\")\n",
        "print(vector)\n",
        "print(\"Shape:\", vector.shape)"
      ],
      "metadata": {
        "colab": {
          "base_uri": "https://localhost:8080/"
        },
        "id": "noMh9cxjZ3Zz",
        "outputId": "7246c684-1870-42fc-9f1c-de8ffab49061"
      },
      "execution_count": null,
      "outputs": [
        {
          "output_type": "stream",
          "name": "stdout",
          "text": [
            "1D Tensor (Vector):\n",
            "tensor([1, 2, 3, 4])\n",
            "Shape: torch.Size([4])\n"
          ]
        }
      ]
    },
    {
      "cell_type": "code",
      "source": [
        "# 2D Tensor (Matrix)\n",
        "matrix = torch.tensor([[1, 2, 3],\n",
        "                      [4, 5, 6]])\n",
        "print(\"2D Tensor (Matrix):\")\n",
        "print(matrix)\n",
        "print(\"Shape:\", matrix.shape)"
      ],
      "metadata": {
        "colab": {
          "base_uri": "https://localhost:8080/"
        },
        "id": "83Uw1I86Z84e",
        "outputId": "ada499eb-6d14-42e0-cf0a-3f7fa68368c8"
      },
      "execution_count": null,
      "outputs": [
        {
          "output_type": "stream",
          "name": "stdout",
          "text": [
            "2D Tensor (Matrix):\n",
            "tensor([[1, 2, 3],\n",
            "        [4, 5, 6]])\n",
            "Shape: torch.Size([2, 3])\n"
          ]
        }
      ]
    },
    {
      "cell_type": "code",
      "source": [
        "# 3D Tensor (Cube)\n",
        "cube = torch.tensor([[[1, 2],\n",
        "                     [3, 4]],\n",
        "                    [[5, 6],\n",
        "                     [7, 8]]])\n",
        "print(\"3D Tensor (Cube):\")\n",
        "print(cube)\n",
        "print(\"Shape:\", cube.shape)"
      ],
      "metadata": {
        "colab": {
          "base_uri": "https://localhost:8080/"
        },
        "id": "gWCZ571IZ_Lj",
        "outputId": "1ee52f95-aae3-4cc6-b9b1-58225f8e4bac"
      },
      "execution_count": null,
      "outputs": [
        {
          "output_type": "stream",
          "name": "stdout",
          "text": [
            "3D Tensor (Cube):\n",
            "tensor([[[1, 2],\n",
            "         [3, 4]],\n",
            "\n",
            "        [[5, 6],\n",
            "         [7, 8]]])\n",
            "Shape: torch.Size([2, 2, 2])\n"
          ]
        }
      ]
    },
    {
      "cell_type": "markdown",
      "source": [
        "## Tensor Properties"
      ],
      "metadata": {
        "id": "0IhDslbNaXAt"
      }
    },
    {
      "cell_type": "code",
      "source": [
        "# Create a tensor\n",
        "t = torch.tensor([[1, 2, 3],\n",
        "                 [4, 5, 6]], dtype=torch.float32)\n",
        "\n",
        "# Basic properties\n",
        "print(\"\\nTensor Properties:\")\n",
        "print(\"Shape:\", t.shape)\n",
        "print(\"Data Type:\", t.dtype)\n",
        "print(\"Device:\", t.device)\n",
        "print(\"Requires Gradient:\", t.requires_grad)"
      ],
      "metadata": {
        "id": "nZydMruLaV2u"
      },
      "execution_count": null,
      "outputs": []
    },
    {
      "cell_type": "markdown",
      "source": [
        "# Computational Graph and Auto Grad"
      ],
      "metadata": {
        "id": "xUeh3hqGaY-E"
      }
    },
    {
      "cell_type": "code",
      "source": [
        "# Basic Example 1\n",
        "x = torch.tensor([1.0,2.0,3.0], requires_grad=True)\n",
        "print(x)\n",
        "\n",
        "y = x+2\n",
        "print(y)"
      ],
      "metadata": {
        "colab": {
          "base_uri": "https://localhost:8080/"
        },
        "id": "_Gbs6hzmn4Ty",
        "outputId": "25fde480-6ccf-4998-f96a-feeebce87d67"
      },
      "execution_count": 2,
      "outputs": [
        {
          "output_type": "stream",
          "name": "stdout",
          "text": [
            "tensor([1., 2., 3.], requires_grad=True)\n",
            "tensor([3., 4., 5.], grad_fn=<AddBackward0>)\n"
          ]
        }
      ]
    },
    {
      "cell_type": "code",
      "source": [
        "!pip install torchviz"
      ],
      "metadata": {
        "id": "ZrQ3NOn1ptEa"
      },
      "execution_count": null,
      "outputs": []
    },
    {
      "cell_type": "code",
      "source": [
        "from torchviz import make_dot\n",
        "\n",
        "graph = make_dot(y, params={\"x\": x})\n",
        "graph"
      ],
      "metadata": {
        "colab": {
          "base_uri": "https://localhost:8080/",
          "height": 307
        },
        "id": "AF8FgekdrbQQ",
        "outputId": "06fbb88b-78dc-4d36-fa19-9e62a56a5973"
      },
      "execution_count": 5,
      "outputs": [
        {
          "output_type": "execute_result",
          "data": {
            "image/svg+xml": "<?xml version=\"1.0\" encoding=\"UTF-8\" standalone=\"no\"?>\n<!DOCTYPE svg PUBLIC \"-//W3C//DTD SVG 1.1//EN\"\n \"http://www.w3.org/Graphics/SVG/1.1/DTD/svg11.dtd\">\n<!-- Generated by graphviz version 2.43.0 (0)\n -->\n<!-- Title: %3 Pages: 1 -->\n<svg width=\"109pt\" height=\"215pt\"\n viewBox=\"0.00 0.00 109.00 215.00\" xmlns=\"http://www.w3.org/2000/svg\" xmlns:xlink=\"http://www.w3.org/1999/xlink\">\n<g id=\"graph0\" class=\"graph\" transform=\"scale(1 1) rotate(0) translate(4 211)\">\n<title>%3</title>\n<polygon fill=\"white\" stroke=\"transparent\" points=\"-4,4 -4,-211 105,-211 105,4 -4,4\"/>\n<!-- 135426565501488 -->\n<g id=\"node1\" class=\"node\">\n<title>135426565501488</title>\n<polygon fill=\"#caff70\" stroke=\"black\" points=\"77.5,-31 23.5,-31 23.5,0 77.5,0 77.5,-31\"/>\n<text text-anchor=\"middle\" x=\"50.5\" y=\"-7\" font-family=\"monospace\" font-size=\"10.00\"> (3)</text>\n</g>\n<!-- 135423110758800 -->\n<g id=\"node2\" class=\"node\">\n<title>135423110758800</title>\n<polygon fill=\"lightgrey\" stroke=\"black\" points=\"95,-86 6,-86 6,-67 95,-67 95,-86\"/>\n<text text-anchor=\"middle\" x=\"50.5\" y=\"-74\" font-family=\"monospace\" font-size=\"10.00\">AddBackward0</text>\n</g>\n<!-- 135423110758800&#45;&gt;135426565501488 -->\n<g id=\"edge3\" class=\"edge\">\n<title>135423110758800&#45;&gt;135426565501488</title>\n<path fill=\"none\" stroke=\"black\" d=\"M50.5,-66.79C50.5,-60.07 50.5,-50.4 50.5,-41.34\"/>\n<polygon fill=\"black\" stroke=\"black\" points=\"54,-41.19 50.5,-31.19 47,-41.19 54,-41.19\"/>\n</g>\n<!-- 135423110765472 -->\n<g id=\"node3\" class=\"node\">\n<title>135423110765472</title>\n<polygon fill=\"lightgrey\" stroke=\"black\" points=\"101,-141 0,-141 0,-122 101,-122 101,-141\"/>\n<text text-anchor=\"middle\" x=\"50.5\" y=\"-129\" font-family=\"monospace\" font-size=\"10.00\">AccumulateGrad</text>\n</g>\n<!-- 135423110765472&#45;&gt;135423110758800 -->\n<g id=\"edge1\" class=\"edge\">\n<title>135423110765472&#45;&gt;135423110758800</title>\n<path fill=\"none\" stroke=\"black\" d=\"M50.5,-121.75C50.5,-114.8 50.5,-104.85 50.5,-96.13\"/>\n<polygon fill=\"black\" stroke=\"black\" points=\"54,-96.09 50.5,-86.09 47,-96.09 54,-96.09\"/>\n</g>\n<!-- 135426855752368 -->\n<g id=\"node4\" class=\"node\">\n<title>135426855752368</title>\n<polygon fill=\"lightblue\" stroke=\"black\" points=\"77.5,-207 23.5,-207 23.5,-177 77.5,-177 77.5,-207\"/>\n<text text-anchor=\"middle\" x=\"50.5\" y=\"-195\" font-family=\"monospace\" font-size=\"10.00\">x</text>\n<text text-anchor=\"middle\" x=\"50.5\" y=\"-184\" font-family=\"monospace\" font-size=\"10.00\"> (3)</text>\n</g>\n<!-- 135426855752368&#45;&gt;135423110765472 -->\n<g id=\"edge2\" class=\"edge\">\n<title>135426855752368&#45;&gt;135423110765472</title>\n<path fill=\"none\" stroke=\"black\" d=\"M50.5,-176.84C50.5,-169.21 50.5,-159.7 50.5,-151.45\"/>\n<polygon fill=\"black\" stroke=\"black\" points=\"54,-151.27 50.5,-141.27 47,-151.27 54,-151.27\"/>\n</g>\n</g>\n</svg>\n",
            "text/plain": [
              "<graphviz.graphs.Digraph at 0x7b2aa687ac50>"
            ]
          },
          "metadata": {},
          "execution_count": 5
        }
      ]
    },
    {
      "cell_type": "code",
      "source": [
        "# Basic example 2\n",
        "x = torch.tensor(2.0, requires_grad=True)\n",
        "y = torch.tensor(3.0, requires_grad=True)\n",
        "\n",
        "# Operations create the computational graph\n",
        "z = x * y\n",
        "w = z + x\n",
        "\n",
        "# Compute gradients\n",
        "w.backward()\n",
        "\n",
        "print(f\"x.grad: {x.grad}\")  # dw/dx = y + 1\n",
        "print(f\"y.grad: {y.grad}\")  # dw/dy = x"
      ],
      "metadata": {
        "colab": {
          "base_uri": "https://localhost:8080/"
        },
        "id": "F8sTC9C3opuw",
        "outputId": "6694d852-8657-4579-f932-871ac46a25e4"
      },
      "execution_count": 6,
      "outputs": [
        {
          "output_type": "stream",
          "name": "stdout",
          "text": [
            "x.grad: 4.0\n",
            "y.grad: 2.0\n"
          ]
        }
      ]
    },
    {
      "cell_type": "code",
      "source": [
        "# Create tensors\n",
        "x = torch.tensor(2.0, requires_grad=True)\n",
        "y = torch.tensor(3.0, requires_grad=True)\n",
        "\n",
        "# Define computation\n",
        "z = x * y\n",
        "w = z + x\n",
        "\n",
        "# Visualize the graph\n",
        "graph = make_dot(w, params={\"x\": x, \"y\": y})\n",
        "graph"
      ],
      "metadata": {
        "colab": {
          "base_uri": "https://localhost:8080/",
          "height": 381
        },
        "id": "0NTgGZIbplvD",
        "outputId": "fa6a0503-8ef6-46ae-8789-5fd31a5c1977"
      },
      "execution_count": 7,
      "outputs": [
        {
          "output_type": "execute_result",
          "data": {
            "image/svg+xml": "<?xml version=\"1.0\" encoding=\"UTF-8\" standalone=\"no\"?>\n<!DOCTYPE svg PUBLIC \"-//W3C//DTD SVG 1.1//EN\"\n \"http://www.w3.org/Graphics/SVG/1.1/DTD/svg11.dtd\">\n<!-- Generated by graphviz version 2.43.0 (0)\n -->\n<!-- Title: %3 Pages: 1 -->\n<svg width=\"228pt\" height=\"270pt\"\n viewBox=\"0.00 0.00 228.00 270.00\" xmlns=\"http://www.w3.org/2000/svg\" xmlns:xlink=\"http://www.w3.org/1999/xlink\">\n<g id=\"graph0\" class=\"graph\" transform=\"scale(1 1) rotate(0) translate(4 266)\">\n<title>%3</title>\n<polygon fill=\"white\" stroke=\"transparent\" points=\"-4,4 -4,-266 224,-266 224,4 -4,4\"/>\n<!-- 135423110942544 -->\n<g id=\"node1\" class=\"node\">\n<title>135423110942544</title>\n<polygon fill=\"#caff70\" stroke=\"black\" points=\"113.5,-31 59.5,-31 59.5,0 113.5,0 113.5,-31\"/>\n<text text-anchor=\"middle\" x=\"86.5\" y=\"-7\" font-family=\"monospace\" font-size=\"10.00\"> ()</text>\n</g>\n<!-- 135423110760000 -->\n<g id=\"node2\" class=\"node\">\n<title>135423110760000</title>\n<polygon fill=\"lightgrey\" stroke=\"black\" points=\"131,-86 42,-86 42,-67 131,-67 131,-86\"/>\n<text text-anchor=\"middle\" x=\"86.5\" y=\"-74\" font-family=\"monospace\" font-size=\"10.00\">AddBackward0</text>\n</g>\n<!-- 135423110760000&#45;&gt;135423110942544 -->\n<g id=\"edge7\" class=\"edge\">\n<title>135423110760000&#45;&gt;135423110942544</title>\n<path fill=\"none\" stroke=\"black\" d=\"M86.5,-66.79C86.5,-60.07 86.5,-50.4 86.5,-41.34\"/>\n<polygon fill=\"black\" stroke=\"black\" points=\"90,-41.19 86.5,-31.19 83,-41.19 90,-41.19\"/>\n</g>\n<!-- 135423110761104 -->\n<g id=\"node3\" class=\"node\">\n<title>135423110761104</title>\n<polygon fill=\"lightgrey\" stroke=\"black\" points=\"168,-141 79,-141 79,-122 168,-122 168,-141\"/>\n<text text-anchor=\"middle\" x=\"123.5\" y=\"-129\" font-family=\"monospace\" font-size=\"10.00\">MulBackward0</text>\n</g>\n<!-- 135423110761104&#45;&gt;135423110760000 -->\n<g id=\"edge1\" class=\"edge\">\n<title>135423110761104&#45;&gt;135423110760000</title>\n<path fill=\"none\" stroke=\"black\" d=\"M117.39,-121.75C112.22,-114.34 104.65,-103.5 98.31,-94.41\"/>\n<polygon fill=\"black\" stroke=\"black\" points=\"101.09,-92.29 92.5,-86.09 95.35,-96.29 101.09,-92.29\"/>\n</g>\n<!-- 135423110760912 -->\n<g id=\"node4\" class=\"node\">\n<title>135423110760912</title>\n<polygon fill=\"lightgrey\" stroke=\"black\" points=\"101,-196 0,-196 0,-177 101,-177 101,-196\"/>\n<text text-anchor=\"middle\" x=\"50.5\" y=\"-184\" font-family=\"monospace\" font-size=\"10.00\">AccumulateGrad</text>\n</g>\n<!-- 135423110760912&#45;&gt;135423110760000 -->\n<g id=\"edge6\" class=\"edge\">\n<title>135423110760912&#45;&gt;135423110760000</title>\n<path fill=\"none\" stroke=\"black\" d=\"M52.88,-176.81C56.3,-164.52 62.9,-141.39 69.5,-122 72.46,-113.29 76.06,-103.75 79.18,-95.74\"/>\n<polygon fill=\"black\" stroke=\"black\" points=\"82.49,-96.88 82.92,-86.29 75.98,-94.31 82.49,-96.88\"/>\n</g>\n<!-- 135423110760912&#45;&gt;135423110761104 -->\n<g id=\"edge2\" class=\"edge\">\n<title>135423110760912&#45;&gt;135423110761104</title>\n<path fill=\"none\" stroke=\"black\" d=\"M62.23,-176.98C73.23,-169 89.92,-156.88 103.1,-147.31\"/>\n<polygon fill=\"black\" stroke=\"black\" points=\"105.52,-149.88 111.56,-141.17 101.41,-144.21 105.52,-149.88\"/>\n</g>\n<!-- 135426865120176 -->\n<g id=\"node5\" class=\"node\">\n<title>135426865120176</title>\n<polygon fill=\"lightblue\" stroke=\"black\" points=\"77.5,-262 23.5,-262 23.5,-232 77.5,-232 77.5,-262\"/>\n<text text-anchor=\"middle\" x=\"50.5\" y=\"-250\" font-family=\"monospace\" font-size=\"10.00\">x</text>\n<text text-anchor=\"middle\" x=\"50.5\" y=\"-239\" font-family=\"monospace\" font-size=\"10.00\"> ()</text>\n</g>\n<!-- 135426865120176&#45;&gt;135423110760912 -->\n<g id=\"edge3\" class=\"edge\">\n<title>135426865120176&#45;&gt;135423110760912</title>\n<path fill=\"none\" stroke=\"black\" d=\"M50.5,-231.84C50.5,-224.21 50.5,-214.7 50.5,-206.45\"/>\n<polygon fill=\"black\" stroke=\"black\" points=\"54,-206.27 50.5,-196.27 47,-206.27 54,-206.27\"/>\n</g>\n<!-- 135423110761056 -->\n<g id=\"node6\" class=\"node\">\n<title>135423110761056</title>\n<polygon fill=\"lightgrey\" stroke=\"black\" points=\"220,-196 119,-196 119,-177 220,-177 220,-196\"/>\n<text text-anchor=\"middle\" x=\"169.5\" y=\"-184\" font-family=\"monospace\" font-size=\"10.00\">AccumulateGrad</text>\n</g>\n<!-- 135423110761056&#45;&gt;135423110761104 -->\n<g id=\"edge4\" class=\"edge\">\n<title>135423110761056&#45;&gt;135423110761104</title>\n<path fill=\"none\" stroke=\"black\" d=\"M161.9,-176.75C155.34,-169.18 145.68,-158.05 137.69,-148.84\"/>\n<polygon fill=\"black\" stroke=\"black\" points=\"140.15,-146.35 130.95,-141.09 134.87,-150.94 140.15,-146.35\"/>\n</g>\n<!-- 135423114312496 -->\n<g id=\"node7\" class=\"node\">\n<title>135423114312496</title>\n<polygon fill=\"lightblue\" stroke=\"black\" points=\"196.5,-262 142.5,-262 142.5,-232 196.5,-232 196.5,-262\"/>\n<text text-anchor=\"middle\" x=\"169.5\" y=\"-250\" font-family=\"monospace\" font-size=\"10.00\">y</text>\n<text text-anchor=\"middle\" x=\"169.5\" y=\"-239\" font-family=\"monospace\" font-size=\"10.00\"> ()</text>\n</g>\n<!-- 135423114312496&#45;&gt;135423110761056 -->\n<g id=\"edge5\" class=\"edge\">\n<title>135423114312496&#45;&gt;135423110761056</title>\n<path fill=\"none\" stroke=\"black\" d=\"M169.5,-231.84C169.5,-224.21 169.5,-214.7 169.5,-206.45\"/>\n<polygon fill=\"black\" stroke=\"black\" points=\"173,-206.27 169.5,-196.27 166,-206.27 173,-206.27\"/>\n</g>\n</g>\n</svg>\n",
            "text/plain": [
              "<graphviz.graphs.Digraph at 0x7b2aa66c98d0>"
            ]
          },
          "metadata": {},
          "execution_count": 7
        }
      ]
    },
    {
      "cell_type": "markdown",
      "source": [
        "### Computational Example 3\n",
        "\n",
        "In order to get familiar with the concept of a computation graph, we will create one for the following function:\n",
        "\n",
        "$$y = \\frac{1}{\\ell(x)}\\sum_i \\left[(x_i + 2)^2 + 3\\right],$$\n",
        "\n",
        "where we use $\\ell(x)$ to denote the number of elements in $x$. In other words, we are taking a mean here over the operation within the sum."
      ],
      "metadata": {
        "id": "SZeXkoXAvxQK"
      }
    },
    {
      "cell_type": "code",
      "source": [
        "x = torch.arange(3, dtype=torch.float32, requires_grad=True) # Only float tensors can have gradients\n",
        "print(\"X\", x)"
      ],
      "metadata": {
        "colab": {
          "base_uri": "https://localhost:8080/"
        },
        "id": "RkEYmjOawKkE",
        "outputId": "4fcc8e94-597f-4328-ad69-3c499ecf8ad4"
      },
      "execution_count": null,
      "outputs": [
        {
          "output_type": "stream",
          "name": "stdout",
          "text": [
            "X tensor([0., 1., 2.], requires_grad=True)\n"
          ]
        }
      ]
    },
    {
      "cell_type": "code",
      "source": [
        "# Build the graph\n",
        "a = x + 2\n",
        "b = a ** 2\n",
        "c = b + 3\n",
        "y = c.mean()\n",
        "print(\"Y\", y)"
      ],
      "metadata": {
        "colab": {
          "base_uri": "https://localhost:8080/"
        },
        "id": "YSZFrWFTwMCQ",
        "outputId": "dd836909-2e07-49c6-ac68-656ca159803c"
      },
      "execution_count": null,
      "outputs": [
        {
          "output_type": "stream",
          "name": "stdout",
          "text": [
            "Y tensor(12.6667, grad_fn=<MeanBackward0>)\n"
          ]
        }
      ]
    },
    {
      "cell_type": "markdown",
      "source": [
        "Using the statements above, we have created a computation graph that looks similar to the figure below:\n",
        "\n",
        "<center style=\"width: 100%\"><img src=\"https://raw.githubusercontent.com/phlippe/uvadlc_notebooks/refs/heads/master/docs/tutorial_notebooks/tutorial2/pytorch_computation_graph.svg\" width=\"200px\"></center>\n",
        "\n",
        "We calculate $a$ based on the inputs $x$ and the constant $2$, $b$ is $a$ squared, and so on. We can perform backpropagation on the computation graph by calling the function `backward()` on the last output, which effectively calculates the gradients for each tensor that has the property `requires_grad=True`:"
      ],
      "metadata": {
        "id": "v4XSoUzvwSte"
      }
    },
    {
      "cell_type": "code",
      "source": [
        "y.backward()"
      ],
      "metadata": {
        "id": "SjpRY5rSwlqV"
      },
      "execution_count": null,
      "outputs": []
    },
    {
      "cell_type": "markdown",
      "source": [
        "`x.grad` will now contain the gradient $\\partial y/ \\partial \\mathcal{x}$, and this gradient indicates how a change in $\\mathbf{x}$ will affect output $y$ given the current input $\\mathbf{x}=[0,1,2]$:`"
      ],
      "metadata": {
        "id": "jNl4kJBcwoRW"
      }
    },
    {
      "cell_type": "code",
      "source": [
        "print(x.grad)"
      ],
      "metadata": {
        "colab": {
          "base_uri": "https://localhost:8080/"
        },
        "id": "KaB4f30bwnFq",
        "outputId": "3bf80977-251b-4a1d-e20f-213ec6f8cef3"
      },
      "execution_count": null,
      "outputs": [
        {
          "output_type": "stream",
          "name": "stdout",
          "text": [
            "tensor([1.3333, 2.0000, 2.6667])\n"
          ]
        }
      ]
    },
    {
      "cell_type": "markdown",
      "source": [
        "We can also verify these gradients by hand. We will calculate the gradients using the chain rule, in the same way as PyTorch did it:\n",
        "\n",
        "$$\\frac{\\partial y}{\\partial x_i} = \\frac{\\partial y}{\\partial c_i}\\frac{\\partial c_i}{\\partial b_i}\\frac{\\partial b_i}{\\partial a_i}\\frac{\\partial a_i}{\\partial x_i}$$\n",
        "\n",
        "Note that we have simplified this equation to index notation, and by using the fact that all operation besides the mean do not combine the elements in the tensor. The partial derivatives are:\n",
        "\n",
        "$$\n",
        "\\frac{\\partial a_i}{\\partial x_i} = 1,\\hspace{1cm}\n",
        "\\frac{\\partial b_i}{\\partial a_i} = 2\\cdot a_i\\hspace{1cm}\n",
        "\\frac{\\partial c_i}{\\partial b_i} = 1\\hspace{1cm}\n",
        "\\frac{\\partial y}{\\partial c_i} = \\frac{1}{3}\n",
        "$$\n",
        "\n",
        "Hence, with the input being $\\mathbf{x}=[0,1,2]$, our gradients are $\\partial y/\\partial \\mathbf{x}=[4/3,2,8/3]$. The previous code cell should have printed the same result."
      ],
      "metadata": {
        "id": "V1StXJXVwqMk"
      }
    },
    {
      "cell_type": "markdown",
      "source": [
        "## Gradient Accumulation Example"
      ],
      "metadata": {
        "id": "IStn6sWAqjiN"
      }
    },
    {
      "cell_type": "code",
      "source": [
        "# Create tensor with gradient tracking\n",
        "x = torch.tensor(1.0, requires_grad=True)\n",
        "\n",
        "# Multiple operations\n",
        "y = x + 2\n",
        "z = y * y * 2\n",
        "\n",
        "# Compute gradients\n",
        "z.backward()\n",
        "print(f\"First gradient: {x.grad}\")  # dz/dx\n",
        "\n",
        "# Gradients accumulate by default\n",
        "z = y * y * 2\n",
        "z.backward()\n",
        "print(f\"Accumulated gradient: {x.grad}\")  # dz/dx  + dz/dx"
      ],
      "metadata": {
        "colab": {
          "base_uri": "https://localhost:8080/"
        },
        "id": "XKIX_kvVqhcy",
        "outputId": "d74f6893-3eaf-4827-887c-580ceaaedab6"
      },
      "execution_count": null,
      "outputs": [
        {
          "output_type": "stream",
          "name": "stdout",
          "text": [
            "First gradient: 12.0\n",
            "Accumulated gradient: 24.0\n"
          ]
        }
      ]
    },
    {
      "cell_type": "code",
      "source": [
        "# Reset gradients\n",
        "x.grad.zero_()\n",
        "print(f\"After reset: {x.grad}\")  # 0"
      ],
      "metadata": {
        "id": "aa5pR0__xb7o"
      },
      "execution_count": null,
      "outputs": []
    },
    {
      "cell_type": "markdown",
      "source": [
        "The following is the typically loop pattern that we will encounter."
      ],
      "metadata": {
        "id": "I5nPKsY7xtla"
      }
    },
    {
      "cell_type": "code",
      "source": [
        "weights = torch.ones(4, requires_grad=True)\n",
        "\n",
        "for epoch in range(3):\n",
        "  model_output = (weights*3).sum()\n",
        "\n",
        "  model_output.backward()\n",
        "\n",
        "  print(weights.grad)\n",
        "  #weights.grad.zero_()"
      ],
      "metadata": {
        "colab": {
          "base_uri": "https://localhost:8080/"
        },
        "id": "LuPvP39-xtRY",
        "outputId": "0af05b3b-60b6-4c3f-fbe5-b98f662bc4a5"
      },
      "execution_count": null,
      "outputs": [
        {
          "output_type": "stream",
          "name": "stdout",
          "text": [
            "tensor([3., 3., 3., 3.])\n",
            "tensor([3., 3., 3., 3.])\n",
            "tensor([3., 3., 3., 3.])\n"
          ]
        }
      ]
    },
    {
      "cell_type": "markdown",
      "source": [
        "## Backpropagation"
      ],
      "metadata": {
        "id": "SIfCdSA3yS6e"
      }
    },
    {
      "cell_type": "code",
      "source": [
        "# Simple linear regression\n",
        "\n",
        "x = torch.tensor(1.0)\n",
        "y = torch.tensor(2.0) # y = 2*x\n",
        "\n",
        "w = torch.tensor(1.0, requires_grad=True)\n",
        "\n",
        "# forward pass and compute loss\n",
        "y_hat = w * x\n",
        "loss = (y_hat - y)**2\n",
        "\n",
        "print(loss)\n",
        "\n",
        "# backward pass\n",
        "loss.backward()\n",
        "print(w.grad)\n",
        "\n",
        "# update w\n",
        "# keep going"
      ],
      "metadata": {
        "colab": {
          "base_uri": "https://localhost:8080/"
        },
        "id": "JPBQCe8ZzhdQ",
        "outputId": "0fcb7fdd-ed2a-4494-92f5-421bce0760dc"
      },
      "execution_count": null,
      "outputs": [
        {
          "output_type": "stream",
          "name": "stdout",
          "text": [
            "tensor(1., grad_fn=<PowBackward0>)\n",
            "tensor(-2.)\n"
          ]
        }
      ]
    },
    {
      "cell_type": "markdown",
      "source": [
        "## Linear Regression Example"
      ],
      "metadata": {
        "id": "KuDba-ntukLX"
      }
    },
    {
      "cell_type": "code",
      "source": [
        "# Pytorch version 1\n",
        "\n",
        "# f = 2 * x\n",
        "X = torch.tensor([1.0, 2.0, 3.0, 4.0])\n",
        "Y = torch.tensor([2.0, 4.0, 6.0, 8.0])\n",
        "\n",
        "w = torch.tensor(0.0, requires_grad=True)\n",
        "\n",
        "# model prediction\n",
        "def forward(x):\n",
        "  return w*x\n",
        "\n",
        "# loss = MSE\n",
        "def loss(y, y_predicted):\n",
        "  return ((y_predicted-y)**2).mean()\n",
        "\n",
        "print(f'Prediction before training: f(5) = {forward(5):.3f}')\n",
        "\n",
        "# Training\n",
        "learning_rate = 0.01\n",
        "n_iters = 50\n",
        "\n",
        "for epoch in range(n_iters):\n",
        "  # prediction = forward pass\n",
        "  y_pred = forward(X)\n",
        "\n",
        "  # loss\n",
        "  l = loss(Y, y_pred)\n",
        "\n",
        "  # gradients\n",
        "  l.backward() # dl/dw\n",
        "\n",
        "  # update weights\n",
        "  with torch.no_grad():\n",
        "    w -= (learning_rate*w.grad)\n",
        "\n",
        "  # zero gradients\n",
        "  w.grad.zero_()\n",
        "\n",
        "  print(f'epoch {epoch+1}: w ={w:.3f}, loss = {l:.5f}')\n",
        "\n",
        "print(f'Prediction before training: f(5) = {forward(5):.3f}')"
      ],
      "metadata": {
        "id": "H2254VXz0gn7"
      },
      "execution_count": null,
      "outputs": []
    },
    {
      "cell_type": "markdown",
      "source": [
        "### Full Pytorch Linear Regression\n",
        "\n",
        "1) Design model (input, output size, forward pass)\n",
        "\n",
        "2) Construct loss and Optimizer\n",
        "\n",
        "3) Training loop:\n",
        "  - forward pass: compute prediction\n",
        "  - backward pass: gradients\n",
        "  - update weights"
      ],
      "metadata": {
        "id": "DRh1u0W67mSy"
      }
    },
    {
      "cell_type": "markdown",
      "source": [
        "### Custom Linear Regression Model\n",
        "\n",
        "How to create models in pytorch\n",
        "- Create a class which inherit `nn.Module`\n",
        "- define layers in `__init__`\n",
        "- Implement forward method"
      ],
      "metadata": {
        "id": "eFiQDNWv-KoR"
      }
    },
    {
      "cell_type": "code",
      "source": [
        "class LinearRegression(nn.Module):\n",
        "\n",
        "  def __init__(self, input_dim, output_dim):\n",
        "    super().__init__()\n",
        "    # define layers\n",
        "    self.lin = nn.Linear(input_dim, output_dim)\n",
        "\n",
        "  def forward(self, x):\n",
        "    return self.lin(x)"
      ],
      "metadata": {
        "id": "9wmmT-vwGCPJ"
      },
      "execution_count": null,
      "outputs": []
    },
    {
      "cell_type": "code",
      "source": [
        "model = LinearRegression(1, 1)\n",
        "# Printing a module shows all its submodules\n",
        "print(model)"
      ],
      "metadata": {
        "colab": {
          "base_uri": "https://localhost:8080/"
        },
        "id": "HsoQMYHnGEhN",
        "outputId": "9c383fe0-fdc9-4fba-ad23-999fc82e51d1"
      },
      "execution_count": null,
      "outputs": [
        {
          "output_type": "stream",
          "name": "stdout",
          "text": [
            "LinearRegression(\n",
            "  (lin): Linear(in_features=1, out_features=1, bias=True)\n",
            ")\n"
          ]
        }
      ]
    },
    {
      "cell_type": "code",
      "source": [
        "for name, param in model.named_parameters():\n",
        "    print(f\"Parameter {name}, shape {param.shape}\")"
      ],
      "metadata": {
        "colab": {
          "base_uri": "https://localhost:8080/"
        },
        "id": "_8nCk8_aGKFr",
        "outputId": "fea99bbe-fe21-4516-ef56-a6e324331d6b"
      },
      "execution_count": null,
      "outputs": [
        {
          "output_type": "stream",
          "name": "stdout",
          "text": [
            "Parameter lin.weight, shape torch.Size([1, 1])\n",
            "Parameter lin.bias, shape torch.Size([1])\n"
          ]
        }
      ]
    },
    {
      "cell_type": "code",
      "source": [
        "# f = 2 * x\n",
        "X = torch.tensor([[1.0], [2.0], [3.0], [4.0]]) # new shape\n",
        "Y = torch.tensor([[2.0], [4.0], [6.0], [8.0]])\n",
        "X_test = torch.tensor([5.0])\n",
        "\n",
        "input_size = 1\n",
        "output_size = 1\n",
        "\n",
        "class LinearRegression(nn.Module):\n",
        "\n",
        "  def __init__(self, input_dim, output_dim):\n",
        "    super().__init__()\n",
        "    # define layers\n",
        "    self.lin = nn.Linear(input_dim, output_dim)\n",
        "\n",
        "  def forward(self, x):\n",
        "    return self.lin(x)\n",
        "model = LinearRegression(input_size, output_size)\n",
        "\n",
        "print(f'Prediction before training: f(5) = {model(X_test).item():.3f}')\n",
        "\n",
        "# Training\n",
        "learning_rate = 0.01\n",
        "n_iters = 50\n",
        "\n",
        "## Loss and optimizer\n",
        "loss = nn.MSELoss() # loss\n",
        "optimizer = torch.optim.SGD(model.parameters(), lr=learning_rate)\n",
        "\n",
        "for epoch in range(n_iters):\n",
        "  # prediction = forward pass\n",
        "  y_pred = model(X)\n",
        "\n",
        "  # loss\n",
        "  l = loss(Y, y_pred)\n",
        "\n",
        "  # gradients\n",
        "  l.backward() # dl/dw\n",
        "\n",
        "  # update weights\n",
        "  optimizer.step()\n",
        "\n",
        "  # zero gradients\n",
        "  optimizer.zero_grad()\n",
        "\n",
        "  [w,b] = model.parameters()\n",
        "  print(f'epoch {epoch+1}: w ={w[0][0].item():.3f}, loss = {l:.5f}')\n",
        "\n",
        "print(f'Prediction before training: f(5) = {model(X_test).item():.3f}')"
      ],
      "metadata": {
        "id": "YYDb28cl-OD3"
      },
      "execution_count": null,
      "outputs": []
    },
    {
      "cell_type": "markdown",
      "source": [
        "# Simple Neuron Network in Pytorch\n",
        "\n",
        "1) DataLoader, Transformation\n",
        "\n",
        "2) Multilayer Neural Net, Activation Function\n",
        "\n",
        "3) Loss and Optimizer\n",
        "\n",
        "4) Training Loop (batch training)\n",
        "\n",
        "5) Model Evaluation\n",
        "\n",
        "6) GPU support"
      ],
      "metadata": {
        "id": "n89cGbrW_pHu"
      }
    },
    {
      "cell_type": "markdown",
      "source": [
        "## Feed Forward Neuron Network"
      ],
      "metadata": {
        "id": "WxSf7zZFGP_b"
      }
    },
    {
      "cell_type": "code",
      "source": [
        "# Example of a Feedforward Neural Network\n",
        "class NeuralNet(nn.Module):\n",
        "    def __init__(self, input_size, hidden_size, num_classes):\n",
        "        super(NeuralNet, self).__init__()\n",
        "        self.fc1 = nn.Linear(input_size, hidden_size)\n",
        "        self.relu = nn.ReLU()\n",
        "        self.fc2 = nn.Linear(hidden_size, num_classes)\n",
        "\n",
        "    def forward(self, x):\n",
        "        out = self.fc1(x)\n",
        "        out = self.relu(out)\n",
        "        out = self.fc2(out)\n",
        "        return out\n",
        "\n",
        "model = NeuralNet(784, 300, 10)\n",
        "print(model)"
      ],
      "metadata": {
        "colab": {
          "base_uri": "https://localhost:8080/"
        },
        "id": "2dc3tYS3GXde",
        "outputId": "217d9fbe-3873-4d49-8bb6-24e5727cfdcf"
      },
      "execution_count": null,
      "outputs": [
        {
          "output_type": "stream",
          "name": "stdout",
          "text": [
            "NeuralNet(\n",
            "  (fc1): Linear(in_features=784, out_features=300, bias=True)\n",
            "  (relu): ReLU()\n",
            "  (fc2): Linear(in_features=300, out_features=10, bias=True)\n",
            ")\n"
          ]
        }
      ]
    },
    {
      "cell_type": "code",
      "source": [
        "for name, param in model.named_parameters():\n",
        "    print(f\"Parameter {name}, shape {param.shape}\")"
      ],
      "metadata": {
        "colab": {
          "base_uri": "https://localhost:8080/"
        },
        "id": "N_sJiixfGfgv",
        "outputId": "cf698dfe-9ab9-45d4-aace-700227e9bc0f"
      },
      "execution_count": null,
      "outputs": [
        {
          "output_type": "stream",
          "name": "stdout",
          "text": [
            "Parameter fc1.weight, shape torch.Size([300, 784])\n",
            "Parameter fc1.bias, shape torch.Size([300])\n",
            "Parameter fc2.weight, shape torch.Size([10, 300])\n",
            "Parameter fc2.bias, shape torch.Size([10])\n"
          ]
        }
      ]
    },
    {
      "cell_type": "code",
      "source": [
        "device = torch.device('cuda' if torch.cuda.is_available() else 'cpu')\n",
        "print(device)"
      ],
      "metadata": {
        "colab": {
          "base_uri": "https://localhost:8080/"
        },
        "id": "tU92KKBYCRlx",
        "outputId": "0f20d716-08d8-46c8-bdc9-8c13b64d2665"
      },
      "execution_count": null,
      "outputs": [
        {
          "output_type": "stream",
          "name": "stdout",
          "text": [
            "cpu\n"
          ]
        }
      ]
    },
    {
      "cell_type": "markdown",
      "source": [
        "### Full code Example"
      ],
      "metadata": {
        "id": "ddInWHp4FCmD"
      }
    },
    {
      "cell_type": "code",
      "source": [
        "import torchvision\n",
        "import torchvision.transforms as transforms\n",
        "from torch.utils.data import DataLoader\n",
        "import matplotlib.pyplot as plt\n",
        "\n",
        "# Device configuration\n",
        "device = torch.device('cuda' if torch.cuda.is_available() else 'cpu')\n",
        "\n",
        "# Hyperparameters\n",
        "input_size = 784  # 28x28\n",
        "hidden_size = 500\n",
        "num_classes = 10\n",
        "num_epochs = 5\n",
        "batch_size = 100\n",
        "learning_rate = 0.001\n",
        "\n",
        "# MNIST dataset\n",
        "transform = transforms.Compose([\n",
        "    transforms.ToTensor(),\n",
        "    transforms.Normalize((0.1307,), (0.3081,)) # 0.1307 is the mean of all MNIST training image and 0.3081 is standard deviation\n",
        "])\n",
        "\n",
        "train_dataset = torchvision.datasets.MNIST(\n",
        "    root='./data', train=True,\n",
        "    transform=transform,\n",
        "    download=True)\n",
        "\n",
        "test_dataset = torchvision.datasets.MNIST(\n",
        "    root='./data', train=False, transform=transform)\n",
        "\n",
        "# Data loader\n",
        "train_loader = DataLoader(\n",
        "    dataset=train_dataset,\n",
        "    batch_size=batch_size,\n",
        "    shuffle=True\n",
        ")\n",
        "\n",
        "test_loader = DataLoader(\n",
        "    dataset=test_dataset,\n",
        "    batch_size=batch_size,\n",
        "    shuffle=False\n",
        ")\n",
        "\n",
        "# Feedforward Neural Network\n",
        "class NeuralNet(nn.Module):\n",
        "    def __init__(self, input_size, hidden_size, num_classes):\n",
        "        super(NeuralNet, self).__init__()\n",
        "        self.fc1 = nn.Linear(input_size, hidden_size)\n",
        "        self.relu = nn.ReLU()\n",
        "        self.fc2 = nn.Linear(hidden_size, num_classes)\n",
        "\n",
        "    def forward(self, x):\n",
        "        out = self.fc1(x)\n",
        "        out = self.relu(out)\n",
        "        out = self.fc2(out)\n",
        "        return out\n",
        "\n",
        "model = NeuralNet(input_size, hidden_size, num_classes).to(device)\n",
        "\n",
        "# Loss and optimizer\n",
        "criterion = nn.CrossEntropyLoss()\n",
        "optimizer = torch.optim.Adam(model.parameters(), lr=learning_rate)\n",
        "\n",
        "\n",
        "# Lists to store metrics\n",
        "train_losses = []\n",
        "train_accuracies = []\n",
        "\n",
        "# Training loop\n",
        "total_steps = len(train_loader)\n",
        "for epoch in range(num_epochs):\n",
        "    running_loss = 0.0\n",
        "    correct = 0\n",
        "    total = 0\n",
        "\n",
        "    for i, (images, labels) in enumerate(train_loader):\n",
        "        # Reshape images to (batch_size, input_size)\n",
        "        images = images.reshape(-1, 28*28).to(device)\n",
        "        labels = labels.to(device)\n",
        "\n",
        "        # Forward pass\n",
        "        outputs = model(images)\n",
        "        loss = criterion(outputs, labels)\n",
        "\n",
        "        # Backward and optimize\n",
        "        optimizer.zero_grad()\n",
        "        loss.backward()\n",
        "        optimizer.step()\n",
        "\n",
        "\n",
        "        # Calculate accuracy\n",
        "        _, predicted = torch.max(outputs.data, 1)\n",
        "        total += labels.size(0)\n",
        "        correct += (predicted == labels).sum().item()\n",
        "        running_loss += loss.item()\n",
        "\n",
        "        if (i+1) % 100 == 0:\n",
        "            print(f'Epoch [{epoch+1}/{num_epochs}], Step [{i+1}/{total_steps}], '\n",
        "                  f'Loss: {loss.item():.4f}')\n",
        "\n",
        "    # Calculate epoch metrics\n",
        "    epoch_loss = running_loss / len(train_loader)\n",
        "    epoch_acc = 100 * correct / total\n",
        "\n",
        "    # Store metrics\n",
        "    train_losses.append(epoch_loss)\n",
        "    train_accuracies.append(epoch_acc)\n",
        "\n",
        "    print(f'Epoch [{epoch+1}/{num_epochs}], '\n",
        "          f'Loss: {epoch_loss:.4f}, '\n",
        "          f'Accuracy: {epoch_acc:.2f}%')"
      ],
      "metadata": {
        "id": "OwOVuiVZAVF9"
      },
      "execution_count": null,
      "outputs": []
    },
    {
      "cell_type": "code",
      "source": [
        "# Test the model\n",
        "model.eval()\n",
        "with torch.no_grad():\n",
        "    correct = 0\n",
        "    total = 0\n",
        "    for images, labels in test_loader:\n",
        "        images = images.reshape(-1, 28*28).to(device)\n",
        "        labels = labels.to(device)\n",
        "        outputs = model(images)\n",
        "        _, predicted = torch.max(outputs.data, 1)\n",
        "        total += labels.size(0)\n",
        "        correct += (predicted == labels).sum().item()\n",
        "\n",
        "    print(f'Accuracy of the network on the 10000 test images: {100 * correct / total:.2f}%')\n",
        "\n",
        "# Plotting training metrics\n",
        "plt.figure(figsize=(12, 4))\n",
        "\n",
        "# Plot loss\n",
        "plt.subplot(1, 2, 1)\n",
        "plt.plot(train_losses, label='Training Loss')\n",
        "plt.title('Training Loss over Epochs')\n",
        "plt.xlabel('Epoch')\n",
        "plt.ylabel('Loss')\n",
        "plt.legend()\n",
        "\n",
        "# Plot accuracy\n",
        "plt.subplot(1, 2, 2)\n",
        "plt.plot(train_accuracies, label='Training Accuracy')\n",
        "plt.title('Training Accuracy over Epochs')\n",
        "plt.xlabel('Epoch')\n",
        "plt.ylabel('Accuracy (%)')\n",
        "plt.legend()\n",
        "\n",
        "plt.tight_layout()\n",
        "plt.show()\n",
        "\n",
        "# Save the model\n",
        "torch.save(model.state_dict(), 'mnist_ffn.pth')"
      ],
      "metadata": {
        "colab": {
          "base_uri": "https://localhost:8080/",
          "height": 372
        },
        "id": "JjM1t9Y4BdRW",
        "outputId": "b9367991-6620-42d2-ccb5-0699fcf8cebd"
      },
      "execution_count": null,
      "outputs": [
        {
          "output_type": "stream",
          "name": "stdout",
          "text": [
            "Accuracy of the network on the 10000 test images: 97.95%\n"
          ]
        },
        {
          "output_type": "display_data",
          "data": {
            "text/plain": [
              "<Figure size 1200x400 with 2 Axes>"
            ],
            "image/png": "[encoded data removed]"
          },
          "metadata": {}
        }
      ]
    },
    {
      "cell_type": "markdown",
      "source": [
        "# Exercise: FashionMNIST"
      ],
      "metadata": {
        "id": "6Mxj9QF6Fi-l"
      }
    },
    {
      "cell_type": "code",
      "source": [
        "import torch\n",
        "import torch.nn as nn\n",
        "import torchvision\n",
        "import torchvision.transforms as transforms\n",
        "from torch.utils.data import DataLoader\n",
        "import matplotlib.pyplot as plt"
      ],
      "metadata": {
        "id": "ZFcXAGLGP6Zx"
      },
      "execution_count": null,
      "outputs": []
    },
    {
      "cell_type": "code",
      "source": [
        "# Hyperparameter\n",
        "batch_size = 100\n",
        "\n",
        "# Data Loader\n",
        "# FashionMNIST Classes\n",
        "classes = ['T-shirt/top', 'Trouser', 'Pullover', 'Dress', 'Coat',\n",
        "           'Sandal', 'Shirt', 'Sneaker', 'Bag', 'Ankle boot']\n",
        "\n",
        "# FashionMNIST dataset\n",
        "transform = transforms.Compose([\n",
        "    transforms.ToTensor(),\n",
        "    transforms.Normalize((0.2860,), (0.3530,))  # FashionMNIST mean and std\n",
        "])\n",
        "\n",
        "train_dataset = torchvision.datasets.FashionMNIST(\n",
        "    root='./data',\n",
        "    train=True,\n",
        "    transform=transform,\n",
        "    download=True\n",
        ")\n",
        "\n",
        "test_dataset = torchvision.datasets.FashionMNIST(\n",
        "    root='./data',\n",
        "    train=False,\n",
        "    transform=transform\n",
        ")\n",
        "\n",
        "# Data loader\n",
        "train_loader = DataLoader(\n",
        "    dataset=train_dataset,\n",
        "    batch_size=batch_size,\n",
        "    shuffle=True\n",
        ")\n",
        "\n",
        "test_loader = DataLoader(\n",
        "    dataset=test_dataset,\n",
        "    batch_size=batch_size,\n",
        "    shuffle=False\n",
        ")"
      ],
      "metadata": {
        "id": "TLQ1tJi2Ll__"
      },
      "execution_count": null,
      "outputs": []
    },
    {
      "cell_type": "code",
      "source": [
        "# Visualize data\n",
        "def imshow(img):\n",
        "    img = img / 2 + 0.5  # unnormalize\n",
        "    plt.imshow(img.squeeze(), cmap='gray')\n",
        "\n",
        "# Get some random train images\n",
        "dataiter = iter(train_loader)\n",
        "images, labels = next(dataiter)\n",
        "\n",
        "# Print images\n",
        "plt.figure(figsize=(10, 10))\n",
        "for i in range(9):\n",
        "    plt.subplot(3, 3, i + 1)\n",
        "    imshow(images[i])"
      ],
      "metadata": {
        "colab": {
          "base_uri": "https://localhost:8080/",
          "height": 832
        },
        "id": "-kFMy1cyMWpK",
        "outputId": "196b9126-3e8f-462d-d863-91735b95b448"
      },
      "execution_count": null,
      "outputs": [
        {
          "output_type": "display_data",
          "data": {
            "text/plain": [
              "<Figure size 1000x1000 with 9 Axes>"
            ],
            "image/png": "[encoded data removed]"
          },
          "metadata": {}
        }
      ]
    },
    {
      "cell_type": "markdown",
      "source": [
        "Model Part\n",
        "- Exercise: Update this code\n",
        "- Feel free to add more layers"
      ],
      "metadata": {
        "id": "riV1V2dRL_Jh"
      }
    },
    {
      "cell_type": "code",
      "source": [
        "# Hyperparameters\n",
        "input_size = 784  # 28x28\n",
        "hidden_size1 = ...\n",
        "hidden_size2 = ...\n",
        "num_classes = ...\n",
        "learning_rate = ... # something very small\n",
        "num_epochs = ...\n",
        "\n",
        "# Feedforward Neural Network\n",
        "class NeuralNet(nn.Module):\n",
        "    def __init__(self, input_size, hidden_size1, hidden_size2, num_classes):\n",
        "        super(NeuralNet, self).__init__()\n",
        "        self.fc1 = nn.Linear(input_size, hidden_size1)\n",
        "        self.relu = nn.ReLU()\n",
        "        self.fc2 = nn.Linear(hidden_size1, hidden_size2)\n",
        "        self.fc3 = nn.Linear(hidden_size2, num_classes)\n",
        "\n",
        "    def forward(self, x):\n",
        "        out = self.fc1(x)\n",
        "        # Update here too!\n",
        "        return out\n",
        "\n",
        "model = NeuralNet(input_size, hidden_size1, hidden_size2, num_classes).to(device)\n",
        "print(model)"
      ],
      "metadata": {
        "id": "opK57W1QKZ1r"
      },
      "execution_count": null,
      "outputs": []
    },
    {
      "cell_type": "markdown",
      "source": [
        "Training Part"
      ],
      "metadata": {
        "id": "NYJzvMrNL96x"
      }
    },
    {
      "cell_type": "code",
      "source": [
        "# Loss and optimizer\n",
        "criterion = nn.CrossEntropyLoss()\n",
        "optimizer = torch.optim.Adam(model.parameters(), lr=learning_rate)\n",
        "\n",
        "# Lists to store metrics\n",
        "train_losses = []\n",
        "train_accuracies = []\n",
        "\n",
        "# Training loop\n",
        "total_steps = len(train_loader)\n",
        "for epoch in range(num_epochs):\n",
        "    running_loss = 0.0\n",
        "    correct = 0\n",
        "    total = 0\n",
        "\n",
        "    for i, (images, labels) in enumerate(train_loader):\n",
        "        # Reshape images to (batch_size, input_size)\n",
        "        images = images.reshape(-1, 28*28).to(device)\n",
        "        labels = labels.to(device)\n",
        "\n",
        "        # Forward pass\n",
        "        outputs = model(images)\n",
        "        loss = criterion(outputs, labels)\n",
        "\n",
        "        # Backward and optimize\n",
        "        optimizer.zero_grad()\n",
        "        loss.backward()\n",
        "        optimizer.step()\n",
        "\n",
        "        # Calculate accuracy\n",
        "        _, predicted = torch.max(outputs.data, 1)\n",
        "        total += labels.size(0)\n",
        "        correct += (predicted == labels).sum().item()\n",
        "        running_loss += loss.item()\n",
        "\n",
        "        if (i+1) % 100 == 0:\n",
        "            print(f'Epoch [{epoch+1}/{num_epochs}], Step [{i+1}/{total_steps}], '\n",
        "                  f'Loss: {loss.item():.4f}')\n",
        "\n",
        "    # Calculate epoch metrics\n",
        "    epoch_loss = running_loss / len(train_loader)\n",
        "    epoch_acc = 100 * correct / total\n",
        "\n",
        "    # Store metrics\n",
        "    train_losses.append(epoch_loss)\n",
        "    train_accuracies.append(epoch_acc)\n",
        "\n",
        "    print(f'Epoch [{epoch+1}/{num_epochs}], '\n",
        "          f'Loss: {epoch_loss:.4f}, '\n",
        "          f'Accuracy: {epoch_acc:.2f}%')"
      ],
      "metadata": {
        "id": "HtgPYfFcL9Ux"
      },
      "execution_count": null,
      "outputs": []
    },
    {
      "cell_type": "code",
      "source": [
        "# Test the model\n",
        "model.eval()\n",
        "class_correct = list(0. for i in range(10))\n",
        "class_total = list(0. for i in range(10))\n",
        "\n",
        "with torch.no_grad():\n",
        "    correct = 0\n",
        "    total = 0\n",
        "    for images, labels in test_loader:\n",
        "        images = images.reshape(-1, 28*28).to(device)\n",
        "        labels = labels.to(device)\n",
        "        outputs = model(images)\n",
        "        _, predicted = torch.max(outputs.data, 1)\n",
        "        total += labels.size(0)\n",
        "        correct += (predicted == labels).sum().item()\n",
        "\n",
        "        # Calculate per-class accuracy\n",
        "        c = (predicted == labels).squeeze()\n",
        "        for i in range(len(labels)):\n",
        "            label = labels[i]\n",
        "            class_correct[label] += c[i].item()\n",
        "            class_total[label] += 1\n",
        "\n",
        "    print(f'Overall Accuracy of the network on the test images: {100 * correct / total:.2f}%')\n",
        "\n",
        "    # Print accuracy for each class\n",
        "    for i in range(10):\n",
        "        print(f'Accuracy of {classes[i]}: {100 * class_correct[i] / class_total[i]:.2f}%')\n",
        "\n",
        "# Plotting training metrics\n",
        "plt.figure(figsize=(12, 4))\n",
        "\n",
        "# Plot loss\n",
        "plt.subplot(1, 2, 1)\n",
        "plt.plot(train_losses, label='Training Loss')\n",
        "plt.title('Training Loss over Epochs')\n",
        "plt.xlabel('Epoch')\n",
        "plt.ylabel('Loss')\n",
        "plt.legend()\n",
        "\n",
        "# Plot accuracy\n",
        "plt.subplot(1, 2, 2)\n",
        "plt.plot(train_accuracies, label='Training Accuracy')\n",
        "plt.title('Training Accuracy over Epochs')\n",
        "plt.xlabel('Epoch')\n",
        "plt.ylabel('Accuracy (%)')\n",
        "plt.legend()\n",
        "\n",
        "plt.tight_layout()\n",
        "plt.show()"
      ],
      "metadata": {
        "id": "Z3bVTLEkKeVz"
      },
      "execution_count": null,
      "outputs": []
    },
    {
      "cell_type": "code",
      "source": [
        "# Visualize some predictions\n",
        "def imshow(img):\n",
        "    img = img / 2 + 0.5  # unnormalize\n",
        "    plt.imshow(img.squeeze(), cmap='gray')\n",
        "\n",
        "# Get some random test images\n",
        "dataiter = iter(test_loader)\n",
        "images, labels = next(dataiter)\n",
        "\n",
        "# Print images\n",
        "plt.figure(figsize=(10, 10))\n",
        "for i in range(9):\n",
        "    plt.subplot(3, 3, i + 1)\n",
        "    imshow(images[i])\n",
        "\n",
        "    # Get predictions\n",
        "    image = images[i].reshape(-1, 28*28).to(device)\n",
        "    with torch.no_grad():\n",
        "        output = model(image)\n",
        "        _, predicted = torch.max(output, 1)\n",
        "\n",
        "    plt.title(f'Pred: {classes[predicted[0]]}\\nTrue: {classes[labels[i]]}')\n",
        "    plt.axis('off')\n",
        "\n",
        "plt.tight_layout()\n",
        "plt.show()"
      ],
      "metadata": {
        "id": "5IoFYQPCKs8T"
      },
      "execution_count": null,
      "outputs": []
    }
  ]
}