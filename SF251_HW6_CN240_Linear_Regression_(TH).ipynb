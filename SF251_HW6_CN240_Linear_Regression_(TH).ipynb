{
  "nbformat": 4,
  "nbformat_minor": 0,
  "metadata": {
    "colab": {
      "provenance": [],
      "authorship_tag": "ABX9TyPBSlWdnV0jr0JphhE6T5/N",
      "include_colab_link": true
    },
    "kernelspec": {
      "name": "python3",
      "display_name": "Python 3"
    },
    "language_info": {
      "name": "python"
    }
  },
  "cells": [
    {
      "cell_type": "markdown",
      "metadata": {
        "id": "view-in-github",
        "colab_type": "text"
      },
      "source": [
        "<a href=\"https://colab.research.google.com/github/yongsa-nut/SF251_67_2/blob/main/SF251_HW6_CN240_Linear_Regression_(TH).ipynb\" target=\"_parent\"><img src=\"https://colab.research.google.com/assets/colab-badge.svg\" alt=\"Open In Colab\"/></a>"
      ]
    },
    {
      "cell_type": "markdown",
      "source": [
        "# HW 6 - Linear Regression\n",
        "\n",
        "## Due: Sunday 20th, April 2025. 23:59\n",
        "\n",
        "## Point: 5\n",
        "\n",
        "**Note**: ถ้ามีปัญหาอ่านโจทย์ไม่เข้าใจ ถามได้นะครับ\n"
      ],
      "metadata": {
        "id": "vyj4p9iPlFMd"
      }
    },
    {
      "cell_type": "markdown",
      "source": [
        "## Description:\n",
        "\n",
        "การบ้านนี้จะแนะนำขั้นตอนพื้นฐานของการทำ machine learning โดยใช้ linear regression มีสองชุดข้อมูลที่เราจะใช้\n",
        "\n",
        "1. ชุดข้อมูล Diabetes จาก `sklearn`\n",
        "2. ชุดข้อมูล housing จาก kaggle"
      ],
      "metadata": {
        "id": "ynAp49p3lYhx"
      }
    },
    {
      "cell_type": "markdown",
      "source": [
        "# 1. The Diabates dataset (2 points)\n",
        "\n",
        "ในโจทย์ปัญหานี้ เราจะสำรวจชุดข้อมูล diabetes และพยายามทำนายการดำเนินของโรค\n",
        "\n",
        "**ขั้นตอน**:\n",
        "1. Import libraries ที่จำเป็น\n",
        "2. โหลดและแบ่งข้อมูล train/test\n",
        "3. สำรวจข้อมูล\n",
        "4. การเลือก Feature และ Feature Engineering\n",
        "5. การเลือกโมเดลโดยใช้ Cross Validation\n",
        "6. การฝึกโมเดลที่ดีที่สุดบนชุดข้อมูลเต็ม\n",
        "7. ตรวจสอบผลลัพธ์"
      ],
      "metadata": {
        "id": "1xLGPa2Jl31X"
      }
    },
    {
      "cell_type": "markdown",
      "source": [
        "<br>\n",
        "\n",
        "---\n",
        "\n",
        "## 1.1 Import necessary libraries\n",
        "\n",
        "ลองดูสิ่งที่เรานำเข้าทั้งหมด บางอย่างคุณอาจจะยังไม่รู้จัก และการบ้านจะอธิบายให้คุณทราบในภายหลังว่าสิ่งเหล่านั้นถูกใช้อย่างไร"
      ],
      "metadata": {
        "id": "2RKUUBOPnN4L"
      }
    },
    {
      "cell_type": "code",
      "execution_count": null,
      "metadata": {
        "id": "iruLqOTjkzE0"
      },
      "outputs": [],
      "source": [
        "import pandas as pd\n",
        "import numpy as np\n",
        "from plotnine import *\n",
        "\n",
        "from sklearn.datasets import load_diabetes\n",
        "from sklearn.model_selection import train_test_split, cross_val_score\n",
        "from sklearn.linear_model import LinearRegression, Ridge, Lasso\n",
        "from sklearn.metrics import mean_squared_error\n",
        "from sklearn.preprocessing import StandardScaler"
      ]
    },
    {
      "cell_type": "markdown",
      "source": [
        "# 1.2 Load and split the Diabates dataset\n",
        "\n",
        "- โหลดชุดข้อมูลเบาหวานโดยใช้ฟังก์ชัน `load_diabetes()` ของ sklearn\n",
        "  - คุณสามารถอ่านเพิ่มเติมเกี่ยวกับชุดข้อมูลและตัวแปรได้ที่นี่ (https://scikit-learn.org/1.5/datasets/toy_dataset.html#diabetes-dataset)."
      ],
      "metadata": {
        "id": "gBv3Vg1nn3pd"
      }
    },
    {
      "cell_type": "code",
      "source": [
        "# Load the Diabetes dataset\n",
        "diabetes = load_diabetes()\n",
        "X, y = diabetes.data, diabetes.target\n",
        "X = pd.DataFrame(X, columns=diabetes.feature_names) # The dataset is is numpy array format"
      ],
      "metadata": {
        "id": "E6hwIlOFoOQh"
      },
      "execution_count": null,
      "outputs": []
    },
    {
      "cell_type": "markdown",
      "source": [
        "## 1.2.1 Split Training/Testing (0.25 points)\n",
        "\n",
        "- หากคุณไม่ได้รับ testing set คุณควร **แบ่ง training และ testing ตั้งแต่ตอนเริ่มต้น**\n",
        "- เหตุผลสำคัญคือ testing set ควรจะบริสุทธิ์และคุณไม่ควรดูมันจนกว่าจะถึงตอนสุดท้าย\n",
        "\n",
        "คำอธิบายงาน:\n",
        "- ใช้ `train_test_split` เพื่อแบ่งชุดข้อมูลแต่ละ feature ออกเป็นชุด training และ testing ([เอกสารอ้างอิง](https://scikit-learn.org/1.5/modules/generated/sklearn.model_selection.train_test_split.html))\n",
        "   - กำหนด `test_size=0.2` เพื่อใช้ข้อมูล 80% สำหรับการ training และ 20% สำหรับการ testing\n",
        "   - กำหนด `random_state=777` เพื่อให้ผลลัพธ์สามารถทำซ้ำได้\n",
        "- สุดท้าย print shapes ของชุดข้อมูล training และ testing ที่ได้"
      ],
      "metadata": {
        "id": "JGOQ0l_-rXX3"
      }
    },
    {
      "cell_type": "code",
      "source": [
        "X_train, X_test, y_train, y_test =  train_test_split(...,\n",
        "                                                     ...,\n",
        "                                                     test_size=...,\n",
        "                                                     random_state=...)\n",
        "\n",
        "print(X_train.shape)\n",
        "print(X_test.shape)"
      ],
      "metadata": {
        "id": "aEcXzwQQrXGj"
      },
      "execution_count": null,
      "outputs": []
    },
    {
      "cell_type": "markdown",
      "source": [
        "# 1.2 Data Exploration\n",
        "\n",
        "## 1.2.0 Exploring the data\n",
        "\n",
        "- สร้าง pandas DataFrame จากชุดข้อมูลเพื่อให้จัดการได้ง่ายขึ้น\n",
        "- แสดงข้อมูลพื้นฐานเกี่ยวกับชุดข้อมูลโดยใช้ `df.info()` และ `df.describe()`"
      ],
      "metadata": {
        "id": "tJmJoPwDqrIN"
      }
    },
    {
      "cell_type": "code",
      "source": [
        "# Create a DataFrame for easier exploration\n",
        "df = pd.DataFrame(X_train, columns=diabetes.feature_names)\n",
        "df['target'] = y_train\n",
        "\n",
        "df.head()\n",
        "\n",
        "# Display basic information about the dataset\n",
        "print(df.info())\n",
        "print(\"\\nDescriptive statistics:\")\n",
        "print(df.describe())"
      ],
      "metadata": {
        "id": "ocbMDxnCowEv"
      },
      "execution_count": null,
      "outputs": []
    },
    {
      "cell_type": "markdown",
      "source": [
        "## 1.2.1 Visualizing all the features (0.5 point)\n",
        "\n",
        "- สร้าง histogram สำหรับทุก feature เพื่อแสดงการกระจายตัวของข้อมูลโดยใช้ plotnine\n",
        "  - ขั้นแรก สร้าง `DataFrame` ใหม่สำหรับการพล็อตโดยใช้ `melt` กับ dataframe `df` โดยใช้ทุกคอลัมน์ (`id_vars=None` หรือไม่จำเป็นต้องระบุ `id_vars` เนื่องจากค่าเริ่มต้นคือ `None` และไม่จำเป็นต้องระบุค่า `value_vars` เพราะใช้ทุก columns หรือจะใส่ทุก ชื่อทก columns ก็ได้)\n",
        "    - ตั้งค่า `var_name` เป็น `'feature'` และ `value_name` เป็น `'value'`\n",
        "  - ขั้นที่สอง พล็อต histogram สำหรับทุก `feature` ด้วย `facet_wrap`  \n",
        "    - ตั้งค่า `scales` ของ `facet_wrap` เป็น `free` เพื่อให้แต่ละ feature โชว์ค่าแกรน `x` กับ `y` แยกไปแต่ละตัว\n",
        "    - ตั้งค่า histogram `bins` เป็น `30` อย่าเปลี่ยนการตั้งค่าอื่น ๆ"
      ],
      "metadata": {
        "id": "hMdSmguvpCs6"
      }
    },
    {
      "cell_type": "code",
      "source": [
        "# Example with theme_minimal()"
      ],
      "metadata": {
        "id": "TC4-extmpYIE",
        "colab": {
          "base_uri": "https://localhost:8080/",
          "height": 623
        },
        "outputId": "7c37075d-119c-4b07-dce7-a2ed4376d552"
      },
      "execution_count": null,
      "outputs": [
        {
          "output_type": "execute_result",
          "data": {
            "text/plain": [
              "<Figure size 800x600 with 11 Axes>"
            ],
            "image/png": "[encoded data removed]"
          },
          "metadata": {},
          "execution_count": 7
        }
      ]
    },
    {
      "cell_type": "code",
      "source": [
        "toplot_df = df.melt(...)\n",
        "(\n",
        "    ggplot(toplot_df, aes(x= ...)) +\n",
        "    geom_histogram(...) +\n",
        "    facet_wrap(... , scales ='free') +\n",
        "    theme_minimal() +\n",
        "    theme(figure_size=(8,6))\n",
        ")"
      ],
      "metadata": {
        "id": "s0Lj2LXWCCi0"
      },
      "execution_count": null,
      "outputs": []
    },
    {
      "cell_type": "markdown",
      "source": [
        "## 1.2.3 What do you notice? (0.125 points)\n",
        "- เห็นอะไรบ้างจาก graph ด้านบน. subgraphs แต่ละอันคือ features ให้เขียนด้านล่างว่ามีอะไรบ้าง"
      ],
      "metadata": {
        "id": "HJd_g-IEsviI"
      }
    },
    {
      "cell_type": "markdown",
      "source": [
        "**Answer**:"
      ],
      "metadata": {
        "id": "D5XlmvmMs5mS"
      }
    },
    {
      "cell_type": "markdown",
      "source": [
        "## 1.2.4 Pandas Scatter Plot Matrix: (0.125 points)\n",
        "\n",
        "- ในทางปฏิบัติ คุณควรตรวจสอบแผนภาพการกระจาย (scatter plots) ของคู่ตัวแปรทั้งหมดเพื่อตรวจสอบคู่ features ที่มีความสัมพันธ์กัน\n",
        "- โดยทั่วไป คุณไม่ควรรวม features ที่มีความสัมพันธ์กันสูง คุณควรรวมเพียงหนึ่งในนั้น เพราะว่า โมเดลจะไม่รู้ว่าจะใช้ตัวไหนหรือแบ่งงานอย่างไร ถ้ามี features คล้ายกันมากๆ ปัญหานี้เรียกว่า **colinearity** ที่เคยพูดไปในคาบ\n",
        "- วิธีหนึ่งในการตรวจสอบคือการใช้ `pandas.plotting.scatter_matrix` ([Documentation](https://pandas.pydata.org/docs/reference/api/pandas.plotting.scatter_matrix.html))\n",
        "- รันโค้ดด้านล่าง คุณเห็น features ใดที่มี **highly correlated** (แสดงความสัมพันธ์เชิงเส้นใดๆ) หรือไม่? ใส่คำตอบในช่องด้านล่าง\n"
      ],
      "metadata": {
        "id": "BRqi4vnIu5G0"
      }
    },
    {
      "cell_type": "code",
      "source": [
        "pd.plotting.scatter_matrix(df, alpha=0.2)"
      ],
      "metadata": {
        "id": "Teq7SleZve5s"
      },
      "execution_count": null,
      "outputs": []
    },
    {
      "cell_type": "markdown",
      "source": [
        "**Answer**:"
      ],
      "metadata": {
        "id": "pS99RGyiwEGr"
      }
    },
    {
      "cell_type": "markdown",
      "source": [
        "## 1.3 Feature Selection and Engineering (0.25 points)\n",
        "\n",
        "- หัวใจสำคัญของ ML คือการเลือก features เพื่อมาใช้เรียนรู้\n",
        "- โดยทั่วไป คุณต้องมีความรู้ในโดเมนเพื่อทำการเลือก feature และ feature engineering ด้วยตนเองอย่างมีประสิทธิภาพ\n",
        "- เนื่องจากเราไม่ใช่ผู้เชี่ยวชาญในเรื่องโรคเบาหวาน เราจะเลือกเพียงไม่กี่ feature ที่ไม่มีความสัมพันธ์กันสูงและทำการแปลงแบบ polynomial และ log บน feature ตัวเลขบางตัว\n",
        "\n",
        "คำอธิบายงาน:\n",
        "- สร้างชุดข้อมูลใหม่ 3 ชุดที่มีเฉพาะ feature ต่อไปนี้\n",
        "  1. `X_train_small`: `age`, `sex`, `bmi`, `bp`, `s1`, `s4`, `s6`\n",
        "  2. `X_train_small_poly`: `age`, `sex`, `bmi`, `bp`, `s1`, `s4`, `s6`, `s1^2`, `s4^2`, `s6^2`\n",
        "    - `s1^2` หมายถึง `s1**2`\n",
        "  3. `X_train_small_log`: `age`, `sex`, `bmi`, `bp`, `s1`, `s4`, `s6`, `log_s1`, `log_s4`, `log_s6`\n",
        "    - เราจะใช้ลอการิทึมธรรมชาติ เฉพาะ `np.log1p()` ฟังก์ชันนี้เพิ่มค่าหนึ่งก่อนทำการคำนวณลอการิทึม (ทำไมเราจึงต้องเพิ่มหนึ่งก่อนคำนวณลอการิทึมในที่นี้?)\n",
        "- **หมายเหตุ**: เพื่อให้โจทย์นี้ง่าย เราจะไม่ทำการ standardize feature ทั้งหมดในที่นี้ แต่ในทางปฏิบัติ (และในคำถามถัดไป) คุณควรทำ"
      ],
      "metadata": {
        "id": "9yFM4qkgs_nm"
      }
    },
    {
      "cell_type": "code",
      "source": [
        "X_train_small = ...\n",
        "\n",
        "X_train_small_poly = ...\n",
        "# Create s1^2, s4^2, s6^2 features\n",
        "\n",
        "\n",
        "\n",
        "X_train_small_log = ...\n",
        "# Create log_s1, log_s4, log_s6 features\n",
        "\n",
        "\n",
        "\n",
        "\n",
        "X_trains = {\n",
        "  \"small\" : X_train_small,\n",
        "  \"small_poly\" : X_train_small_poly,\n",
        "  \"small_log\" : X_train_small_log\n",
        "}"
      ],
      "metadata": {
        "id": "wCSI0yX2tDEo"
      },
      "execution_count": null,
      "outputs": []
    },
    {
      "cell_type": "markdown",
      "source": [
        "## 1.4 Cross-Validation for Model Selection (0.25 points)\n",
        "\n",
        "- สำหรับขั้นตอนนี้ เราจะใช้ Cross-Validation เพื่อเลือกการรวมกันที่ดีที่สุดระหว่างโมเดลที่ดีที่สุดและfeature set\n",
        "- เราจะพิจารณา 3 โมเดล:\n",
        "  - linear regression (`LinearRegression()`)\n",
        "  - lasso (`Lasso(alpha=1.0)`)\n",
        "  - ridge regression (`Ridge(alpha=1.0)`)\n",
        "- เราจะทำการทดสอบแบบ 5-fold cross-validation โดยใช้ `cross_val_score` กับการวัดความผิดพลาดแบบ negative mean squared error `scoring='neg_mean_squared_error'`\n",
        " - 'neg_mean_squared_error' คือแค่ -1 * mean squared error เท่านั้น `sklearn` มีเมตริกนี้เนื่องจากใช้หลักการว่าค่าที่สูงกว่าคือค่าที่ดีกว่า\n",
        " - [เอกสารอ้างอิง](https://scikit-learn.org/stable/modules/generated/sklearn.model_selection.cross_val_score.html)\n",
        "- **Note**: พยายามทำความเข้าใจ code อันนี้\n"
      ],
      "metadata": {
        "id": "qTE-BVRitDfU"
      }
    },
    {
      "cell_type": "code",
      "source": [
        "models = {\n",
        "    'Linear Regression': LinearRegression(),\n",
        "    'Ridge Regression': Ridge(alpha=1.0),\n",
        "    'Lasso Regression': Lasso(alpha=1.0)\n",
        "}\n",
        "\n",
        "cv_results = []\n",
        "\n",
        "for model_name, model in models.items():\n",
        "  for X_name, X_temp in X_trains.items():\n",
        "    cv_scores = cross_val_score(estimator = ...,\n",
        "                                X = ...,\n",
        "                                y = ...,\n",
        "                                cv = ...,   #Fill in your answer here\n",
        "                                scoring='neg_mean_squared_error')\n",
        "    mean_cv_mse = -cv_scores.mean()  # We multiply by -1* because we want MSE and not negative MSE.\n",
        "    cv_results.append({\n",
        "         'Feature Set': X_name,\n",
        "         'Model': model_name,\n",
        "         'Mean CV MSE': mean_cv_mse,\n",
        "    })\n",
        "\n",
        "cv_results_df = pd.DataFrame(cv_results)\n",
        "print(cv_results_df)"
      ],
      "metadata": {
        "id": "EUB0cldntHqK"
      },
      "execution_count": null,
      "outputs": []
    },
    {
      "cell_type": "markdown",
      "source": [
        "## 1.5 Fitting the best model to the full training data (0.25 points)\n",
        "\n",
        "- สุดท้าย เราจะทำการ fit โมเดลที่ดีที่สุด + feature set บนข้อมูลฝึกฝนเต็มรูปแบบ (`X_train`)\n",
        "- หลังจาก fitting แล้ว ให้พิมพ์ค่า coefficient `.coef_`"
      ],
      "metadata": {
        "id": "2Hcw_RAetH_f"
      }
    },
    {
      "cell_type": "code",
      "source": [
        "best_model = ...\n",
        "X_train_best = ...\n",
        "\n",
        "# Fit the model again\n",
        "best_model.fit(... , ...)\n",
        "\n",
        "# print coef ของ model\n",
        "print(best_model.coef_)"
      ],
      "metadata": {
        "id": "LW2lBEiStK6b"
      },
      "execution_count": null,
      "outputs": []
    },
    {
      "cell_type": "markdown",
      "source": [
        "## 1.6 Explore the results (0.25 points)\n",
        "\n",
        "- คำนวณค่า Mean Squared Error สำหรับข้อมูลฝึกสอน (train) และข้อมูลทดสอบ (test) และแสดงผลลัพธ์ออกมา\n",
        "- คุณอาจพบว่าฟังก์ชัน `mean_squared_error()` มีประโยชน์ [เอกสารอ้างอิง](https://scikit-learn.org/1.5/modules/generated/sklearn.metrics.mean_squared_error.html)\n",
        "- สำหรับ testing data จะต้อง ทำการสร้าง data ที่มี features เสร็จเดียวกันกับ training data ก่อน!"
      ],
      "metadata": {
        "id": "eU7j8MXEtLGX"
      }
    },
    {
      "cell_type": "code",
      "source": [
        "mse_train = ...\n",
        "\n",
        "mse_test = ...\n",
        "\n",
        "\n",
        "print(f\"Training MSE {mse_train:.2f}. Testing MSE {mse_test:.2f}\")"
      ],
      "metadata": {
        "id": "cNFXPnDEtOKZ"
      },
      "execution_count": null,
      "outputs": []
    },
    {
      "cell_type": "markdown",
      "source": [
        "<br>\n",
        "\n",
        "---\n",
        "\n",
        "# 2. Housing Dataset (3 points)\n",
        "\n",
        "สำหรับคำถามนี้ เราจะใช้ข้อมูลที่อยู่อาศัยจาก [Kaggle](https://www.kaggle.com/competitions/home-data-for-ml-course/data) competition เราจะใช้เฉพาะ training data เราจะทำตามขั้นตอนการทำงานเหมือนกับข้อที่แล้ว การบ้านจะแนะนำคุณผ่านทุกขั้นตอน การบ้านนี้จะใช้เวลาไปกับการ clean data เยอะ\n",
        "\n",
        "- คุณสามารถหาข้อมูลการฝึกได้ [ที่นี่](https://github.com/yongsa-nut/TU_CN240_DataScience_671/blob/main/Data/train.csv)\n",
        "- การบ้าน adapt มาจาก [ที่นี่](https://www.kaggle.com/code/angqx95/data-science-workflow-top-2-with-tuning/notebook)\n",
        "\n",
        "**เป้าหมาย:**\n",
        "- เป้าหมายของเราคือการทำนาย `SalePrice`\n",
        "\n",
        "**Hint**:\n",
        "- ถ้ามี error แนะนำให้รันข้อมูลใหม่จากด้านบน"
      ],
      "metadata": {
        "id": "8VAVXURgtOnI"
      }
    },
    {
      "cell_type": "markdown",
      "source": [
        "## 2.0 Load the data"
      ],
      "metadata": {
        "id": "V-l6j0uzklzO"
      }
    },
    {
      "cell_type": "code",
      "source": [
        "!wget -O house_train.csv https://github.com/yongsa-nut/TU_CN240_DataScience_671/raw/refs/heads/main/Data/train.csv"
      ],
      "metadata": {
        "id": "qF9T4pzNDWcE"
      },
      "execution_count": null,
      "outputs": []
    },
    {
      "cell_type": "code",
      "source": [
        "# Loading the data\n",
        "house_df = pd.read_csv(\"house_train.csv\", index_col=0)\n",
        "house_df.head()"
      ],
      "metadata": {
        "id": "oBNlBYKnjDBW"
      },
      "execution_count": null,
      "outputs": []
    },
    {
      "cell_type": "markdown",
      "source": [
        "## 2.1 Explore the data\n",
        "\n",
        "- จากการดูแบบคร่าวๆ ข้างบน คุณควรจะเห็นว่ามีบาง features ที่มีค่าที่ขาดหายไป `NaN` จำนวนมาก\n",
        "- นอกจากนี้ ข้อมูลนี้มี features เยอะมาก!\n",
        "- เราสามารถใช้ `.info()` เพื่อตรวจสอบจำนวนของ `NaN` (Non-Null Count) และประเภทของคุณลักษณะต่างๆ\n",
        " - ตัวอย่างเช่น ` 5   Alley          91 non-null     object` แสดงว่ามีแค่ 91 จาก 1460 เท่านั้นที่มีค่าจริงๆ ไม่หาย"
      ],
      "metadata": {
        "id": "rNK4hSwRkPIb"
      }
    },
    {
      "cell_type": "code",
      "source": [
        "house_df.info()"
      ],
      "metadata": {
        "id": "W4Tfv7EdlDj2"
      },
      "execution_count": null,
      "outputs": []
    },
    {
      "cell_type": "markdown",
      "source": [
        "## 2.2 Drop features with lots of missing values (0.25 points)\n",
        "\n",
        "- เราจะทิ้ง features ที่มีค่าที่หายไปจำนวนมาก เนื่องจากมีแนวโน้มว่าสิ่งเหล่านี้**มีข้อมูลไม่เพียงพอสำหรับการทำนาย** (ทำไม?)\n",
        "- **Task**: เอา features ทั้งหมดที่มีค่าที่ไม่ใช่ null/NaN น้อยกว่า 1000 (ตัวเลขนี้เป็นการกำหนดโดยพลการ) ออกจาก dataframe\n",
        "  - **Note**: ตัวเลข 1000 เป็นตัวเลขที่ผมเลือกมาเองแบบสุ่มๆ ในชีวิตจริงอาจจะต้องมีการทดสอบเพิ่มเติมว่าเหมาะสมไหม\n",
        "- ควรจะมี 74 คอลัมน์เหลืออยู่"
      ],
      "metadata": {
        "id": "Jab_E5xSlWBF"
      }
    },
    {
      "cell_type": "code",
      "source": [
        "col_to_drop = ... # here\n",
        "\n",
        "house_df_nn = house_df.drop(labels=col_to_drop, axis = 1)\n",
        "house_df_nn.shape"
      ],
      "metadata": {
        "id": "rsbcDKkjlVe5"
      },
      "execution_count": null,
      "outputs": []
    },
    {
      "cell_type": "markdown",
      "source": [
        "### 2.3 Visualize features\n",
        "- ต่อไปเราต้องการ visualize features ทั้งหมด\n",
        "- เราจะแบ่ง features ออกเป็นสองกลุ่ม: ตัวเลข (numerical) และ หมวดหมู่ (categorical) เนื่องจากต้องใช้วิธีการพล็อตที่แตกต่างกัน\n",
        "- ในชีวิตจริง คุณต้องอ่านคำอธิบายของแต่ละตัวแปรและตัดสินใจว่าตัวแปรใดเป็นประเภทใด (คุณสามารถอ่านได้[ที่นี่](https://www.kaggle.com/competitions/home-data-for-ml-course/data) ในส่วน data fields)\n",
        "- เพื่อประหยัดเวลาของคุณ โค้ดด้านล่างแสดงวิธีหนึ่งในการแยกตัวแปรตามประเภทอย่างรวดเร็ว (`object` (categorical) และ `non object` (numerical))\n",
        "  - คุณสามารถอ่านเพิ่มเติมเกี่ยวกับ `select_dtypes()` ได้[ที่นี่](https://pandas.pydata.org/docs/reference/api/pandas.DataFrame.select_dtypes.html)\n",
        "- อย่างไรก็ตาม มีตัวแปรหนึ่งคือ `MSSubClass` ที่เป็นตัวแปรเชิงหมวดหมู่ แต่ pandas จดจำว่าเป็น `int` ดังนั้นเราจะต้องลบตัวแปรนี้ออกจากกลุ่มตัวเลขและเพิ่มเข้าไปในกลุ่มหมวดหมู่ (เราจะรู้ได้ก็ต้องเมื่อเราเข้าใจ feature นี้!)"
      ],
      "metadata": {
        "id": "GU7VsaZ_nAkL"
      }
    },
    {
      "cell_type": "code",
      "source": [
        "numeric_ = house_df_nn.select_dtypes(exclude=['object']).copy()\n",
        "numeric_ = numeric_.drop(['MSSubClass'], axis=1)\n",
        "numeric_.columns"
      ],
      "metadata": {
        "collapsed": true,
        "id": "-_SzmfCMoNGa"
      },
      "execution_count": null,
      "outputs": []
    },
    {
      "cell_type": "code",
      "source": [
        "cat_ = house_df_nn.select_dtypes(include=['object']).copy()\n",
        "cat_['MSSubClass'] = house_df_nn['MSSubClass']   #MSSubClass is nominal\n",
        "cat_.columns"
      ],
      "metadata": {
        "id": "SAbvJRNXok_B"
      },
      "execution_count": null,
      "outputs": []
    },
    {
      "cell_type": "markdown",
      "source": [
        "### 2.3.1 Plot the numerical variables using histrogram + facet_wrap() (0.25 points)\n",
        "\n",
        "- แสดงกราฟตัวแปรเชิงตัวเลขทั้งหมดด้านล่างโดยใช้ histogram และ facet_wrap\n",
        "- ปรับพารามิเตอร์ของ histogram ตามที่คุณเห็นว่าเหมาะสม\n",
        "- (อีกทางเลือกหนึ่ง เราสามารถใช้ boxplot/violen plot ได้เช่นกัน เราจะทำสิ่งนี้ในภายหลัง)\n",
        "- **Note**: คุณจะ เห็น warining เพราะบาง row ยังมี `NaN` อยู่"
      ],
      "metadata": {
        "id": "FR5RtTkro3dm"
      }
    },
    {
      "cell_type": "code",
      "source": [
        "toplot_numeric_df = numeric_.melt(...)\n",
        "(\n",
        "    ggplot(...) +\n",
        "    geom_histogram(...) +\n",
        "    facet_wrap(..., scales ='free') +\n",
        "    theme_minimal() +\n",
        "    theme(figure_size=(8,6))\n",
        ")"
      ],
      "metadata": {
        "id": "NC1pb1WYo2WD"
      },
      "execution_count": null,
      "outputs": []
    },
    {
      "cell_type": "markdown",
      "source": [
        "### 2.3.2 Plot the cateogrical variables using barplot + facet_wrap() (0.25 points)\n",
        "- ใช้ `barplot` and `facet_wrap` เพื่อ plot all categorical variables"
      ],
      "metadata": {
        "id": "wJ4sWTAJpKBE"
      }
    },
    {
      "cell_type": "code",
      "source": [],
      "metadata": {
        "id": "JU6iiCkWpRDw"
      },
      "execution_count": null,
      "outputs": []
    },
    {
      "cell_type": "markdown",
      "source": [
        "### 2.3.3 Features with mostly only one value. (0.25 points)\n",
        "\n",
        "- คุณควรเห็นจาก plot สองอันก่อนหน้านี้ว่า features หลายตัวมีค่าเพียงค่าเดียวเป็นส่วนใหญ่ (กราฟที่มียอดสูงใหญ่เพียงยอดเดียว)\n",
        "- เมื่อ features มีค่าหลักเพียงค่าเดียว พวกมันไม่ได้เพิ่มข้อมูลที่เป็นประโยชน์ให้กับโมเดลการทำนายของเรา (เพราะอะไร?)\n",
        "- **Task**: คัด features เหล่านี้ออกไป\n",
        "- **Note**: คุณสามารถเลือกเกณฑ์ของคำว่า \"ส่วนใหญ่\" (เช่น >=90) ได้ตามต้องการ ในทางปฏิบัติ คุณอาจต้องการตรวจสอบกระบวนการนี้ด้วย cross-validation\n",
        "- **Hint**:\n",
        " - คุณสามารถใช้ `.columns` เพื่อดูชื่อคอลัมน์ทั้งหมด\n",
        " - คุณอาจพบว่า `.value_counts()` มีประโยชน์ (ผลลัพธ์ที่ได้จะเรียงตามลำดับจากมากไปน้อย ดังนั้นองค์ประกอบแรกจะเป็นองค์ประกอบที่เกิดขึ้นบ่อยที่สุด) [Documentation](https://pandas.pydata.org/docs/reference/api/pandas.Series.value_counts.html)\n",
        " - ถ้าใช้ threshold = 0.9 ควรจะเหลือแค่ 56 columns"
      ],
      "metadata": {
        "id": "6wwNakXupRWw"
      }
    },
    {
      "cell_type": "code",
      "source": [
        "# Exclude all variables with mostly one variable.\n",
        "threshold = ...\n",
        "\n",
        "# Add your code below to add any categorical variables that have mostly one value\n",
        "mostly_cat = []\n",
        "for col in cat_.columns:\n",
        "  highest_count = cat_[col].value_counts().iloc[0] # test this out to see how it works\n",
        "  if ... > threshold: # TODO: here\n",
        "    mostly_cat.append(col)\n",
        "\n",
        "# Add your code below to add any numerical variables that have mostly one value\n",
        "mostly_num = []\n",
        "for col in numeric_.columns:\n",
        "  highest_count = numeric_[col].value_counts().iloc[0]\n",
        "  if ... > threshold: # TODO: here\n",
        "    mostly_num.append(col)\n",
        "\n",
        "print(mostly_cat)\n",
        "print(mostly_num)\n",
        "\n",
        "house_df_nn_mostly = house_df_nn.drop(mostly_cat + mostly_num, axis=1)\n",
        "house_df_nn_mostly.shape"
      ],
      "metadata": {
        "id": "fJWqY3bsqV3N"
      },
      "execution_count": null,
      "outputs": []
    },
    {
      "cell_type": "markdown",
      "source": [
        "### 2.3.5 Visualize pairs of variables (0.25 points)\n",
        "\n",
        "- สำหรับโจทย์ข้อนี้ เราจะดู correlation matrix แทนการใช้ `scatter_matrix` เหมือนก่อนหน้านี้\n",
        "- การคำนวณตาราง correlation สำหรับตัวแปรเชิงตัวเลขทั้งหมด เราสามารถใช้ `pd.corr()`\n",
        "  - โค้ดสำหรับการสร้างตาราง correlation มีให้ด้านล่าง **สิ่งสำคัญ**คือเราจะเอามาดูเฉพาะความสัมพันธ์ที่มีค่าเกินกว่าค่าเกณฑ์ (0.8) เพราะจะทำให้ดูง่ายขึ้น"
      ],
      "metadata": {
        "id": "vW1BCRCnqcMW"
      }
    },
    {
      "cell_type": "code",
      "source": [
        "corr_threshold = 0.8 #for easy visualization, will only look at those above threshold\n",
        "correlation = numeric_.corr().reset_index()\n",
        "correlation = correlation.melt(id_vars = 'index', var_name = 'feature2', value_name='corr')\n",
        "correlation.loc[correlation['corr'] < corr_threshold, \"corr\"] = 0.0\n",
        "correlation"
      ],
      "metadata": {
        "id": "l3Af-9-NrFuJ"
      },
      "execution_count": null,
      "outputs": []
    },
    {
      "cell_type": "markdown",
      "source": [
        "- จากนั้น เราสามารถพล็อต correlation matrix เป็น heatmap โดยใช้ `geom_tile()`\n",
        "  - แกน x เป็น `index`, แกน y เป็น `feature2`, `fill` เป็น `corr`\n",
        "  - การเปลี่ยนทิศทางของเครื่องหมายแกน คุณสามารถใช้ `theme(axis_text_x=element_text(rotation=90, hjust=1))`\n",
        "  - **Note**: เราเห็นเฉพาะอันที่สูงกว่า 0.8!"
      ],
      "metadata": {
        "id": "JxV9xfRVOA_O"
      }
    },
    {
      "cell_type": "code",
      "source": [
        "# Plot the correlation matrix using geom_tile below\n",
        "(\n",
        "  ggplot(correlation, aes(...) +\n",
        "  geom_tile()  +\n",
        "  theme(axis_text_x=element_text(rotation=90, hjust=1), figure_size=(10,8))\n",
        ")"
      ],
      "metadata": {
        "id": "WNJZQNFZ4_2L"
      },
      "execution_count": null,
      "outputs": []
    },
    {
      "cell_type": "markdown",
      "source": [
        "### 2.3.6 List the highly correlated pairs (0.25 points)\n",
        "\n",
        "- แสดง row ของ correlation ที่ `corr` มากกว่า 0.8 และ `corr` ไม่เท่ากับ 1 (เพราะมันคือตัวเอง)"
      ],
      "metadata": {
        "id": "LkdAKkiZrMYW"
      }
    },
    {
      "cell_type": "code",
      "source": [
        "correlation[...] #TODO: Fill in here"
      ],
      "metadata": {
        "id": "mzoTFSs7OiOa"
      },
      "execution_count": null,
      "outputs": []
    },
    {
      "cell_type": "markdown",
      "source": [
        "- ตารางด้านบนควรจะมีอยู่ n คู่ (เช่น 8 คู่) คู่จะซ้ำกันอยู่ครึ่งหนึ่ง ให้ลบ feature ที่มาหลังตามตัวอักษร ของแต่ละคู่ออก เช่น คู่ (`GarageYrBlt`,`YearBuilt`) ให้ลบ `YearBuilt` ออก (เหตุผลหลักๆคือเพื่อให้ตรวจได้ง่าย)\n",
        " - ถ้ามี 8 คู่ ตวรจะ ลบแค่ 4 feature\n",
        " - ตัวเลขมาก่อนตัวอักษร"
      ],
      "metadata": {
        "id": "OyImSLVGPmQL"
      }
    },
    {
      "cell_type": "code",
      "source": [
        "to_remove = [...] #TODO: Fill in here\n",
        "\n",
        "house_df_filter = house_df_nn_mostly.drop(to_remove, axis=1)\n",
        "house_df_filter.shape"
      ],
      "metadata": {
        "id": "1r-Ag2KErefv",
        "colab": {
          "base_uri": "https://localhost:8080/"
        },
        "outputId": "960b584f-1114-4963-810a-3417680174f6"
      },
      "execution_count": null,
      "outputs": [
        {
          "output_type": "execute_result",
          "data": {
            "text/plain": [
              "(1460, 52)"
            ]
          },
          "metadata": {},
          "execution_count": 96
        }
      ]
    },
    {
      "cell_type": "markdown",
      "source": [
        "- **Note**: เราสามารถดำเนินการต่อและตรวจสอบความสัมพันธ์ระหว่าง features และ target (`SalePrice`) แต่เราจะหยุดที่นี่\n",
        "- **Importance**: หากคุณพิจารณาที่จะทำสิ่งนี้ในอนาคต คุณต้องมั่นใจว่าคุณจะไม่ดูข้อมูล test!! คุณควรแยก train และ test ก่อนขั้นตอนนี้ (หรือดีกว่าคือตั้งแต่ตอนเริ่มต้น)"
      ],
      "metadata": {
        "id": "K8E9EEb1rfxo"
      }
    },
    {
      "cell_type": "markdown",
      "source": [
        "### 2.4 Data Processing\n",
        "\n",
        "มีอีกสองอย่างที่เราต้องทำ:\n",
        " - Dealing with outliers\n",
        " - Dealing with missing data"
      ],
      "metadata": {
        "id": "IjcWIo4XsBv2"
      }
    },
    {
      "cell_type": "markdown",
      "source": [
        "### 2.4.1 Dealing with outliers (0.25 points)\n",
        "\n",
        "- เราจะดู outliers ด้วย boxplot We will use boxplot to visualize outliers.\n",
        "- เราจะดูเฉพาะ numerical variables"
      ],
      "metadata": {
        "id": "g40l-8F4sQWc"
      }
    },
    {
      "cell_type": "code",
      "source": [
        "numeric_ = house_df_filter.select_dtypes(exclude=['object']).copy()\n",
        "numeric_ = numeric_.drop(['MSSubClass'], axis=1)\n",
        "numeric_.shape"
      ],
      "metadata": {
        "id": "Rdm7VHhUsP1a"
      },
      "execution_count": null,
      "outputs": []
    },
    {
      "cell_type": "markdown",
      "source": [
        "- Plot the boxplot for all numerical variables below"
      ],
      "metadata": {
        "id": "4ZVXIf2L8rpL"
      }
    },
    {
      "cell_type": "code",
      "source": [
        "plot_numeric_ = numeric_.melt(var_name='feature', value_name='value')\n",
        "\n",
        "(ggplot(plot_numeric_, aes(y='value'))\n",
        " + facet_wrap('~feature', scales='free', ncol=6)\n",
        " + geom_boxplot()\n",
        " + theme_minimal()\n",
        " + theme(figure_size=(10,8))\n",
        ")"
      ],
      "metadata": {
        "id": "z3R5Eqm_8Ozl"
      },
      "execution_count": null,
      "outputs": []
    },
    {
      "cell_type": "markdown",
      "source": [
        "- จากรูปด้านบนเราจะออกข้อมูลต่อไปนี้ออกที่คิดว่าน่าจะเป็น extreme outliers:\n",
        " - 'LotFrontage' > 200\n",
        " - 'LotArea' > 100000\n",
        " - 'BsmtFinSF1' > 4000\n",
        " - 'GrLivArea' > 4000\n",
        "- **Your task**: เอาแถวข้อนี้ที่ตรงตามเงื่อนไขด้านบนอย่างน้อยหนึ่งอันออก (exclude all data points (row) that satisfy one of the above conditions.)"
      ],
      "metadata": {
        "id": "gAMF7jgX9k7L"
      }
    },
    {
      "cell_type": "code",
      "source": [
        "house_df_filter_o = ...\n",
        "\n",
        "\n",
        "house_df_filter_o.shape"
      ],
      "metadata": {
        "id": "XTqz7y4x979d"
      },
      "execution_count": null,
      "outputs": []
    },
    {
      "cell_type": "markdown",
      "source": [
        "### 2.4.2 Dealing with missing data (0.25 points)\n",
        "\n",
        "- เพื่อให้ง่าย (แต่ไม่ใช่วิธีที่ดีที่สุด) งานของคุณคือลบแถวที่มีข้อมูลที่หายไปทั้งหมดโดยใช้ `dropna()` [เอกสารประกอบ](https://pandas.pydata.org/docs/reference/api/pandas.DataFrame.dropna.html)\n",
        "- การทำแบบนี้ เราสูญเสียข้อมูลไปจำนวนมาก!!\n",
        "- อย่างที่เราได้พูดคุยกันก่อนหน้านี้ วิธีที่ดีกว่าคือการ impute ข้อมูลเหล่านั้นด้วยวิธีการบางอย่าง\n",
        "\n",
        "- To keep thing simple (but not optimal), your task is to simply drop all rows with missing data using `dropna()`. [Documentation](https://pandas.pydata.org/docs/reference/api/pandas.DataFrame.dropna.html)\n",
        "- Doing it this way, we lost a lot of data points!!\n",
        "- As we discussed before, the better way is to impute them somehow."
      ],
      "metadata": {
        "id": "Xp4OxslMsSNi"
      }
    },
    {
      "cell_type": "code",
      "source": [
        "house_df_filter_om = ...\n",
        "\n",
        "house_df_filter_om.shape"
      ],
      "metadata": {
        "id": "ReiR1zkfsUFy"
      },
      "execution_count": null,
      "outputs": []
    },
    {
      "cell_type": "markdown",
      "source": [
        "## 2.5 Feature Engineering\n",
        "\n",
        "- เพื่อที่จะทำ feature engineering เราจะต้องใช้ **domain knowledge**\n",
        "- สำหรับโจทย์นี้ เราจะแปลง features ประเภท categorical ทั้งหมดให้เป็นตัวแปรตัวเลขโดยใช้ **one-hot encoding** ตามที่เราได้อภิปรายในชั้นเรียน\n",
        "- โชคดีที่ pandas มีฟังก์ชันที่ทำเรื่องนี้โดยเฉพาะ: `pd.get_dummies(df)` [เอกสารอ้างอิง](https://pandas.pydata.org/docs/reference/api/pandas.get_dummies.html)\n",
        "- ใช้ `get_dummies()` เพื่อแปลงตัวแปร categorical ทั้งหมดด้านล่าง\n",
        "- จะพบว่ามีจำนวน columns เพิ่มขึ้นจำนวนมาก!!"
      ],
      "metadata": {
        "id": "MMx-Ks7CsUYq"
      }
    },
    {
      "cell_type": "code",
      "source": [
        "house_df_final = pd.get_dummies(house_df_filter_om)\n",
        "house_df_final.shape"
      ],
      "metadata": {
        "id": "SXmes7XhsW-j",
        "colab": {
          "base_uri": "https://localhost:8080/"
        },
        "outputId": "2d16e144-af91-4e0a-b52f-2402f9cc9690"
      },
      "execution_count": null,
      "outputs": [
        {
          "output_type": "execute_result",
          "data": {
            "text/plain": [
              "(1089, 201)"
            ]
          },
          "metadata": {},
          "execution_count": 102
        }
      ]
    },
    {
      "cell_type": "markdown",
      "source": [
        "### 2.6 Choosing the models with Cross-Validation"
      ],
      "metadata": {
        "id": "ROSH4pMksXL8"
      }
    },
    {
      "cell_type": "markdown",
      "source": [
        "### 2.6.1 Create train and test dataset (0.25 points)\n",
        "\n",
        "- Create `X_train`, `X_test`, `y_train`, `y_test` below\n",
        "- Test_size is 20%. `random_state` is `777`"
      ],
      "metadata": {
        "id": "6Sw7ZxEYATNA"
      }
    },
    {
      "cell_type": "code",
      "source": [
        "X = house_df_final.drop([\"SalePrice\"],axis=1).copy()\n",
        "y = house_df_final[\"SalePrice\"]\n",
        "X_train, X_test, y_train, y_test = ...\n"
      ],
      "metadata": {
        "id": "P_2Kpke_AiOx"
      },
      "execution_count": null,
      "outputs": []
    },
    {
      "cell_type": "markdown",
      "source": [
        "### 2.6.2 Scaling the data\n",
        "\n",
        "- ด้วย features ที่หลากหลาย เราจำเป็นต้อง scale ข้อมูลให้อยู่ในช่วงที่เหมาะสมและเดียวกัน\n",
        "- เราจะ scale เฉพาะ `X_train` เท่านั้น สิ่งสำคัญคือต้องไม่รวม `X_test` ในการคำนวณการแปลง scaling มิฉะนั้นชุดทดสอบของเราจะเกิดการรั่วไหลข้อมูล\n",
        "- เราจะใช้ `StandardScaler` สำหรับปัญหานี้ (แต่ดู [robust version](https://scikit-learn.org/dev/modules/generated/sklearn.preprocessing.RobustScaler.html) ด้วย)\n",
        "  - [Documentation](https://scikit-learn.org/dev/modules/generated/sklearn.preprocessing.StandardScaler.html)\n",
        "  - อันดับแรกคุณต้องสร้าง object `scaler = StandardScaler()`\n",
        "  - จากนั้น คุณคำนวณค่าเฉลี่ยและส่วนเบี่ยงเบนมาตรฐาน คุณสามารถทำได้โดยเรียกใช้ `scaler.fit(X)`\n",
        "  - `scaler` นี้สามารถใช้เพื่อแปลงข้อมูลใดๆ ทั้งชุดฝึกและชุดทดสอบได้โดยเรียกใช้ `scaler.transform(data)`"
      ],
      "metadata": {
        "id": "MdDRuX7SaOMC"
      }
    },
    {
      "cell_type": "code",
      "source": [
        "scaler = StandardScaler()\n",
        "scaler.fit(X_train)\n",
        "X_train = scaler.transform(X_train)"
      ],
      "metadata": {
        "id": "s3WcRluHalNH"
      },
      "execution_count": null,
      "outputs": []
    },
    {
      "cell_type": "markdown",
      "source": [
        "### 2.6.3 Checking 'SalePrice' (0.25 point)\n",
        "\n",
        "- มาดูให้ละเอียดกว่านี้ที่ `SalePrice` ซึ่งเป็นตัวแปรเป้าหมายของเรา\n",
        "- สร้างกราฟ histogram ของ `y_train` คุณจะต้องแปลงมันให้เป็น `DataFrame` ก่อน"
      ],
      "metadata": {
        "id": "3ZDEvP8jt87z"
      }
    },
    {
      "cell_type": "code",
      "source": [],
      "metadata": {
        "id": "nbhvyGTZt9O7"
      },
      "execution_count": null,
      "outputs": []
    },
    {
      "cell_type": "markdown",
      "source": [
        "- ตามที่คุณควรเห็น ค่าและช่วงของ `SalePrice` มีค่าสูงมากและข้อมูลเบ้ไปทางขวา สิ่งนี้อาจก่อให้เกิดปัญหาบางประการกับ mean squared error (ทำไม?)\n",
        "- ดังนั้น เราจะทำการ log transform `SalePrice`\n",
        "- เพื่อความง่าย เราจะทำ log transform ทั้ง `y_train` และ `y_test`\n",
        "- เราสามารถใช้ `np.log(x)`\n",
        "- **หมายเหตุสำคัญ**: หลังจากนี้เรากำลังทำนายค่า log ของ `SalePrice` เราจำเป็นต้องใช้ exponential หากต้องการกลับไปยังค่า `SalePrice`\n"
      ],
      "metadata": {
        "id": "oqZsx4xr5ptr"
      }
    },
    {
      "cell_type": "code",
      "source": [
        "y_train = np.log(y_train)\n",
        "y_test = np.log(y_test)"
      ],
      "metadata": {
        "id": "15CbVGUo6gRv"
      },
      "execution_count": null,
      "outputs": []
    },
    {
      "cell_type": "markdown",
      "source": [
        "- Plot `y_train` again below"
      ],
      "metadata": {
        "id": "M7d3mePg8qma"
      }
    },
    {
      "cell_type": "code",
      "source": [],
      "metadata": {
        "id": "Wy3eMUgL8qYk"
      },
      "execution_count": null,
      "outputs": []
    },
    {
      "cell_type": "markdown",
      "source": [
        "### 2.6.4 Use Cross-validation to find the best model out of the following five models (0.25 points)\n",
        "- Use 5-fold CV\n",
        "- Read the results carefully."
      ],
      "metadata": {
        "id": "oqkJip-2AaOY"
      }
    },
    {
      "cell_type": "code",
      "source": [
        "models = {\n",
        "    'Linear Regression': LinearRegression(),\n",
        "    'Ridge Regression_alpha=1': Ridge(alpha=1.0),\n",
        "    'Ridge Regression_alpha=.5': Ridge(alpha=.5),\n",
        "    'Lasso Regression_alpha=1': Lasso(alpha=1.0),\n",
        "    'Lasso Regression_alpha=.5': Lasso(alpha=.5)\n",
        "}\n",
        "\n",
        "cv_results = []\n",
        "\n",
        "for model_name, model in models.items():\n",
        "  cv_scores = cross_val_score(...,\n",
        "                              ...,\n",
        "                              ...,\n",
        "                              cv=...,\n",
        "                              scoring='neg_mean_squared_error')\n",
        "  mean_cv_mse = -cv_scores.mean()\n",
        "  cv_results.append({\n",
        "      'Model': model_name,\n",
        "      'Mean CV MSE': mean_cv_mse,\n",
        "  })\n",
        "\n",
        "cv_results_df = pd.DataFrame(cv_results)\n",
        "print(cv_results_df)"
      ],
      "metadata": {
        "id": "bccClk6XsbUV"
      },
      "execution_count": null,
      "outputs": []
    },
    {
      "cell_type": "markdown",
      "source": [
        "## 2.7 Fitting the best model with the whole data (0.25 points)\n",
        "\n",
        "- Fitting the best model with the whole training data\n",
        "- คำนวณ MSE ของข้อมูล train และ test\n",
        "- อย่าลืมแปลง `X_test` ก่อนด้วย `scaler` (จาก 2.6.2)!!"
      ],
      "metadata": {
        "id": "rueGAGzksbvQ"
      }
    },
    {
      "cell_type": "code",
      "source": [
        "\n",
        "\n",
        "\n",
        "print(f\"MSE train is {mse_train:.2f}. MSE test is {mse_test:.2f}\")"
      ],
      "metadata": {
        "id": "7LDNSvVzsusi"
      },
      "execution_count": null,
      "outputs": []
    },
    {
      "cell_type": "markdown",
      "source": [
        "- Another metric that we could look at is call R-squared.\n",
        "- We can use `r2_score(y_true, y_predict)` to check it.\n",
        "- The value is between 0 - 1.0 where 1.0 is perfect predictions.\n",
        "- You can read more [here](https://scikit-learn.org/1.5/modules/model_evaluation.html#r2-score-the-coefficient-of-determination)"
      ],
      "metadata": {
        "id": "jFH_MyaUrbG5"
      }
    },
    {
      "cell_type": "code",
      "source": [
        "from sklearn.metrics import r2_score\n",
        "\n",
        "r2_score(y_train, best_model.predict(X_train))"
      ],
      "metadata": {
        "id": "oIAz9VWNrOq7"
      },
      "execution_count": null,
      "outputs": []
    },
    {
      "cell_type": "markdown",
      "source": [
        "## What's next?\n",
        "\n",
        "- If you actually want to submit to kaggle, you will need to predict the test data to submit to kaggle.\n",
        "- In this class, we won't get to the fancy models and techiques, especially those specialized for ML competitions like kaggle (e.g., tree-based and Ensemble methods) but you can read more [here](https://www.kaggle.com/code/angqx95/data-science-workflow-top-2-with-tuning/notebook#4.2-Ensemble-Algorithms).\n",
        "- The upside of linear models is that we can 'interpret' them. We will learn more and do more about this in the next homework."
      ],
      "metadata": {
        "id": "dA50WM28svCe"
      }
    }
  ]
}